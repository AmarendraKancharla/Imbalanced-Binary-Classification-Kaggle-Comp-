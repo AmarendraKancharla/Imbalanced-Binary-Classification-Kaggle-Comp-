{
 "cells": [
  {
   "cell_type": "code",
   "execution_count": 1,
   "id": "2756d2df",
   "metadata": {
    "_cell_guid": "b1076dfc-b9ad-4769-8c92-a6c4dae69d19",
    "_uuid": "8f2839f25d086af736a60e9eeb907d3b93b6e0e5",
    "execution": {
     "iopub.execute_input": "2022-03-25T14:43:21.966268Z",
     "iopub.status.busy": "2022-03-25T14:43:21.964960Z",
     "iopub.status.idle": "2022-03-25T14:43:21.981618Z",
     "shell.execute_reply": "2022-03-25T14:43:21.982114Z"
    },
    "papermill": {
     "duration": 0.061791,
     "end_time": "2022-03-25T14:43:21.982447",
     "exception": false,
     "start_time": "2022-03-25T14:43:21.920656",
     "status": "completed"
    },
    "tags": []
   },
   "outputs": [
    {
     "name": "stdout",
     "output_type": "stream",
     "text": [
      "/kaggle/input/data-science-lab-2022-spring-kaggle/train_final.csv\n",
      "/kaggle/input/data-science-lab-2022-spring-kaggle/test_final.csv\n"
     ]
    }
   ],
   "source": [
    "# This Python 3 environment comes with many helpful analytics libraries installed\n",
    "# It is defined by the kaggle/python Docker image: https://github.com/kaggle/docker-python\n",
    "# For example, here's several helpful packages to load\n",
    "\n",
    "import numpy as np # linear algebra\n",
    "import pandas as pd # data processing, CSV file I/O (e.g. pd.read_csv)\n",
    "\n",
    "# Input data files are available in the read-only \"../input/\" directory\n",
    "# For example, running this (by clicking run or pressing Shift+Enter) will list all files under the input directory\n",
    "\n",
    "import os\n",
    "for dirname, _, filenames in os.walk('/kaggle/input'):\n",
    "    for filename in filenames:\n",
    "        print(os.path.join(dirname, filename))\n",
    "\n",
    "# You can write up to 20GB to the current directory (/kaggle/working/) that gets preserved as output when you create a version using \"Save & Run All\" \n",
    "# You can also write temporary files to /kaggle/temp/, but they won't be saved outside of the current session"
   ]
  },
  {
   "cell_type": "code",
   "execution_count": 2,
   "id": "d2288bf7",
   "metadata": {
    "execution": {
     "iopub.execute_input": "2022-03-25T14:43:22.056534Z",
     "iopub.status.busy": "2022-03-25T14:43:22.055802Z",
     "iopub.status.idle": "2022-03-25T14:43:22.060376Z",
     "shell.execute_reply": "2022-03-25T14:43:22.060974Z"
    },
    "papermill": {
     "duration": 0.043178,
     "end_time": "2022-03-25T14:43:22.061188",
     "exception": false,
     "start_time": "2022-03-25T14:43:22.018010",
     "status": "completed"
    },
    "tags": []
   },
   "outputs": [],
   "source": [
    "import pandas as pd\n",
    "import numpy as np\n",
    "import matplotlib.pyplot as plt"
   ]
  },
  {
   "cell_type": "code",
   "execution_count": 3,
   "id": "9c8ed01f",
   "metadata": {
    "execution": {
     "iopub.execute_input": "2022-03-25T14:43:22.138831Z",
     "iopub.status.busy": "2022-03-25T14:43:22.134232Z",
     "iopub.status.idle": "2022-03-25T14:43:23.832170Z",
     "shell.execute_reply": "2022-03-25T14:43:23.831557Z"
    },
    "papermill": {
     "duration": 1.736065,
     "end_time": "2022-03-25T14:43:23.832351",
     "exception": false,
     "start_time": "2022-03-25T14:43:22.096286",
     "status": "completed"
    },
    "tags": []
   },
   "outputs": [],
   "source": [
    "from sklearn.metrics import roc_auc_score\n",
    "from numpy import mean\n",
    "from numpy import std\n",
    "from sklearn.datasets import make_classification\n",
    "from sklearn.model_selection import cross_val_score\n",
    "from sklearn.model_selection import RepeatedStratifiedKFold\n",
    "from sklearn.linear_model import LogisticRegression\n",
    "from sklearn.model_selection import GridSearchCV\n",
    "from sklearn import tree, ensemble\n",
    "from sklearn.preprocessing import StandardScaler\n",
    "from xgboost import XGBClassifier\n",
    "from sklearn.metrics import confusion_matrix,classification_report,accuracy_score"
   ]
  },
  {
   "cell_type": "code",
   "execution_count": 4,
   "id": "16e6e92d",
   "metadata": {
    "execution": {
     "iopub.execute_input": "2022-03-25T14:43:23.906179Z",
     "iopub.status.busy": "2022-03-25T14:43:23.905329Z",
     "iopub.status.idle": "2022-03-25T14:43:24.079125Z",
     "shell.execute_reply": "2022-03-25T14:43:24.078499Z",
     "shell.execute_reply.started": "2022-03-25T14:41:08.731879Z"
    },
    "papermill": {
     "duration": 0.2123,
     "end_time": "2022-03-25T14:43:24.079331",
     "exception": false,
     "start_time": "2022-03-25T14:43:23.867031",
     "status": "completed"
    },
    "tags": []
   },
   "outputs": [],
   "source": [
    "df_train=pd.read_csv('../input/data-science-lab-2022-spring-kaggle/train_final.csv')\n",
    "df_test=pd.read_csv('../input/data-science-lab-2022-spring-kaggle/test_final.csv')"
   ]
  },
  {
   "cell_type": "code",
   "execution_count": 5,
   "id": "643fc029",
   "metadata": {
    "execution": {
     "iopub.execute_input": "2022-03-25T14:43:24.168964Z",
     "iopub.status.busy": "2022-03-25T14:43:24.168110Z",
     "iopub.status.idle": "2022-03-25T14:43:24.176329Z",
     "shell.execute_reply": "2022-03-25T14:43:24.175719Z"
    },
    "papermill": {
     "duration": 0.062436,
     "end_time": "2022-03-25T14:43:24.176490",
     "exception": false,
     "start_time": "2022-03-25T14:43:24.114054",
     "status": "completed"
    },
    "tags": []
   },
   "outputs": [],
   "source": [
    "X=np.array(df_train.drop(['Y','Id'],axis=1))\n",
    "y=np.array(df_train['Y'])"
   ]
  },
  {
   "cell_type": "code",
   "execution_count": 6,
   "id": "11b9eae6",
   "metadata": {
    "execution": {
     "iopub.execute_input": "2022-03-25T14:43:24.257053Z",
     "iopub.status.busy": "2022-03-25T14:43:24.256250Z",
     "iopub.status.idle": "2022-03-25T14:43:24.392135Z",
     "shell.execute_reply": "2022-03-25T14:43:24.392689Z"
    },
    "papermill": {
     "duration": 0.181123,
     "end_time": "2022-03-25T14:43:24.392910",
     "exception": false,
     "start_time": "2022-03-25T14:43:24.211787",
     "status": "completed"
    },
    "tags": []
   },
   "outputs": [],
   "source": [
    "from sklearn.model_selection import train_test_split\n",
    "from sklearn.utils import check_random_state\n",
    "random_state=check_random_state(0)\n",
    "permutation=random_state.permutation(X.shape[0])\n",
    "X = X[permutation]\n",
    "y=y[permutation]\n",
    "X = X.reshape((X.shape[0], -1))\n",
    "X=pd.DataFrame(X)\n",
    "y=pd.DataFrame(y)\n",
    "X_train, X_test, y_train, y_test = train_test_split(X, y, test_size=0.20,stratify=y, random_state=42)"
   ]
  },
  {
   "cell_type": "code",
   "execution_count": 7,
   "id": "7c9b0983",
   "metadata": {
    "execution": {
     "iopub.execute_input": "2022-03-25T14:43:24.473444Z",
     "iopub.status.busy": "2022-03-25T14:43:24.472322Z",
     "iopub.status.idle": "2022-03-25T14:43:24.475343Z",
     "shell.execute_reply": "2022-03-25T14:43:24.474789Z"
    },
    "papermill": {
     "duration": 0.045121,
     "end_time": "2022-03-25T14:43:24.475492",
     "exception": false,
     "start_time": "2022-03-25T14:43:24.430371",
     "status": "completed"
    },
    "tags": []
   },
   "outputs": [],
   "source": [
    "y_train=np.ravel(y_train)\n",
    "y_test=np.ravel(y_test)"
   ]
  },
  {
   "cell_type": "code",
   "execution_count": 8,
   "id": "c83aa96f",
   "metadata": {
    "execution": {
     "iopub.execute_input": "2022-03-25T14:43:24.552469Z",
     "iopub.status.busy": "2022-03-25T14:43:24.551787Z",
     "iopub.status.idle": "2022-03-25T14:43:26.007302Z",
     "shell.execute_reply": "2022-03-25T14:43:26.008024Z"
    },
    "papermill": {
     "duration": 1.498329,
     "end_time": "2022-03-25T14:43:26.008228",
     "exception": false,
     "start_time": "2022-03-25T14:43:24.509899",
     "status": "completed"
    },
    "tags": []
   },
   "outputs": [
    {
     "data": {
      "text/plain": [
       "13    0.068488\n",
       "14    0.038228\n",
       "15    0.018512\n",
       "7     0.017058\n",
       "0     0.015676\n",
       "3     0.011485\n",
       "12    0.011158\n",
       "18    0.008649\n",
       "16    0.007334\n",
       "6     0.005202\n",
       "19    0.004999\n",
       "10    0.004114\n",
       "20    0.003293\n",
       "17    0.002473\n",
       "4     0.002256\n",
       "21    0.002127\n",
       "8     0.001813\n",
       "9     0.001527\n",
       "23    0.000999\n",
       "22    0.000412\n",
       "5     0.000410\n",
       "1     0.000000\n",
       "11    0.000000\n",
       "2     0.000000\n",
       "dtype: float64"
      ]
     },
     "execution_count": 8,
     "metadata": {},
     "output_type": "execute_result"
    }
   ],
   "source": [
    "from sklearn.feature_selection import mutual_info_classif\n",
    "# determine the mutual information\n",
    "mutual_info = mutual_info_classif(X_train, y_train)\n",
    "mutual_info = pd.Series(mutual_info)\n",
    "mutual_info.index = X_train.columns\n",
    "mutual_info.sort_values(ascending=False)"
   ]
  },
  {
   "cell_type": "code",
   "execution_count": 9,
   "id": "e55411e1",
   "metadata": {
    "execution": {
     "iopub.execute_input": "2022-03-25T14:43:26.083746Z",
     "iopub.status.busy": "2022-03-25T14:43:26.083101Z",
     "iopub.status.idle": "2022-03-25T14:43:27.542605Z",
     "shell.execute_reply": "2022-03-25T14:43:27.541939Z"
    },
    "papermill": {
     "duration": 1.499463,
     "end_time": "2022-03-25T14:43:27.542792",
     "exception": false,
     "start_time": "2022-03-25T14:43:26.043329",
     "status": "completed"
    },
    "tags": []
   },
   "outputs": [],
   "source": [
    "from sklearn.feature_selection import SelectKBest\n",
    "sel_five_cols = SelectKBest(mutual_info_classif, k=15)\n",
    "sel_five_cols.fit(X_train, y_train)\n",
    "c=X_train.columns[sel_five_cols.get_support()]\n",
    "X_train3 = X_train[X_train.columns.intersection(c)]\n",
    "X_test3=X_test[X_test.columns.intersection(c)]"
   ]
  },
  {
   "cell_type": "code",
   "execution_count": 10,
   "id": "289c0ffe",
   "metadata": {
    "execution": {
     "iopub.execute_input": "2022-03-25T14:43:27.618040Z",
     "iopub.status.busy": "2022-03-25T14:43:27.616989Z",
     "iopub.status.idle": "2022-03-25T14:43:29.409113Z",
     "shell.execute_reply": "2022-03-25T14:43:29.409668Z"
    },
    "papermill": {
     "duration": 1.83216,
     "end_time": "2022-03-25T14:43:29.409900",
     "exception": false,
     "start_time": "2022-03-25T14:43:27.577740",
     "status": "completed"
    },
    "tags": []
   },
   "outputs": [
    {
     "name": "stderr",
     "output_type": "stream",
     "text": [
      "/opt/conda/lib/python3.7/site-packages/sklearn/utils/validation.py:985: DataConversionWarning: A column-vector y was passed when a 1d array was expected. Please change the shape of y to (n_samples, ), for example using ravel().\n",
      "  y = column_or_1d(y, warn=True)\n"
     ]
    }
   ],
   "source": [
    "sel_five_cols = SelectKBest(mutual_info_classif, k=15)\n",
    "sel_five_cols.fit(X, y)\n",
    "lb=X.columns[sel_five_cols.get_support()]\n",
    "X1 = X[X.columns.intersection(lb)]"
   ]
  },
  {
   "cell_type": "code",
   "execution_count": 11,
   "id": "291ea7a2",
   "metadata": {
    "execution": {
     "iopub.execute_input": "2022-03-25T14:43:29.487835Z",
     "iopub.status.busy": "2022-03-25T14:43:29.486710Z",
     "iopub.status.idle": "2022-03-25T14:44:13.412819Z",
     "shell.execute_reply": "2022-03-25T14:44:13.413357Z"
    },
    "papermill": {
     "duration": 43.965836,
     "end_time": "2022-03-25T14:44:13.413588",
     "exception": false,
     "start_time": "2022-03-25T14:43:29.447752",
     "status": "completed"
    },
    "tags": []
   },
   "outputs": [
    {
     "name": "stderr",
     "output_type": "stream",
     "text": [
      "/opt/conda/lib/python3.7/site-packages/ipykernel_launcher.py:3: DataConversionWarning: A column-vector y was passed when a 1d array was expected. Please change the shape of y to (n_samples,), for example using ravel().\n",
      "  This is separate from the ipykernel package so we can avoid doing imports until\n"
     ]
    },
    {
     "name": "stdout",
     "output_type": "stream",
     "text": [
      "1.0\n"
     ]
    }
   ],
   "source": [
    "rf4=ensemble.RandomForestClassifier(bootstrap=True, criterion='gini', max_depth=40,\n",
    "                       min_samples_leaf=1, min_samples_split=2,\n",
    "                       n_estimators=1577, max_features='sqrt',class_weight='balanced_subsample',random_state=0).fit(X1,y)\n",
    "print(roc_auc_score(y, rf4.predict_proba(X1)[:, 1]))"
   ]
  },
  {
   "cell_type": "code",
   "execution_count": 12,
   "id": "d27e0f50",
   "metadata": {
    "execution": {
     "iopub.execute_input": "2022-03-25T14:44:13.490987Z",
     "iopub.status.busy": "2022-03-25T14:44:13.490321Z",
     "iopub.status.idle": "2022-03-25T14:44:18.163044Z",
     "shell.execute_reply": "2022-03-25T14:44:18.163657Z"
    },
    "papermill": {
     "duration": 4.714056,
     "end_time": "2022-03-25T14:44:18.163871",
     "exception": false,
     "start_time": "2022-03-25T14:44:13.449815",
     "status": "completed"
    },
    "tags": []
   },
   "outputs": [
    {
     "name": "stdout",
     "output_type": "stream",
     "text": [
      "[[  948     0]\n",
      " [    0 15435]]\n",
      "1.0\n",
      "              precision    recall  f1-score   support\n",
      "\n",
      "           0       1.00      1.00      1.00       948\n",
      "           1       1.00      1.00      1.00     15435\n",
      "\n",
      "    accuracy                           1.00     16383\n",
      "   macro avg       1.00      1.00      1.00     16383\n",
      "weighted avg       1.00      1.00      1.00     16383\n",
      "\n"
     ]
    }
   ],
   "source": [
    "prediction=rf4.predict(X1)\n",
    "print(confusion_matrix(y,prediction))\n",
    "print(accuracy_score(y,prediction))\n",
    "print(classification_report(y,prediction))"
   ]
  },
  {
   "cell_type": "code",
   "execution_count": 13,
   "id": "300da558",
   "metadata": {
    "execution": {
     "iopub.execute_input": "2022-03-25T14:44:18.247429Z",
     "iopub.status.busy": "2022-03-25T14:44:18.246619Z",
     "iopub.status.idle": "2022-03-25T14:44:33.950262Z",
     "shell.execute_reply": "2022-03-25T14:44:33.950891Z"
    },
    "papermill": {
     "duration": 15.749961,
     "end_time": "2022-03-25T14:44:33.951120",
     "exception": false,
     "start_time": "2022-03-25T14:44:18.201159",
     "status": "completed"
    },
    "tags": []
   },
   "outputs": [
    {
     "name": "stderr",
     "output_type": "stream",
     "text": [
      "/opt/conda/lib/python3.7/site-packages/xgboost/sklearn.py:1224: UserWarning: The use of label encoder in XGBClassifier is deprecated and will be removed in a future release. To remove this warning, do the following: 1) Pass option use_label_encoder=False when constructing XGBClassifier object; and 2) Encode your labels (y) as integers starting with 0, i.e. 0, 1, 2, ..., [num_class - 1].\n",
      "  warnings.warn(label_encoder_deprecation_msg, UserWarning)\n",
      "/opt/conda/lib/python3.7/site-packages/sklearn/preprocessing/_label.py:98: DataConversionWarning: A column-vector y was passed when a 1d array was expected. Please change the shape of y to (n_samples, ), for example using ravel().\n",
      "  y = column_or_1d(y, warn=True)\n",
      "/opt/conda/lib/python3.7/site-packages/sklearn/preprocessing/_label.py:133: DataConversionWarning: A column-vector y was passed when a 1d array was expected. Please change the shape of y to (n_samples, ), for example using ravel().\n",
      "  y = column_or_1d(y, warn=True)\n"
     ]
    },
    {
     "name": "stdout",
     "output_type": "stream",
     "text": [
      "Accuracy score is: 0.9736922419581273\n",
      "0.9979975233010624\n",
      "[[  946     2]\n",
      " [  429 15006]]\n",
      "0.9736922419581273\n",
      "              precision    recall  f1-score   support\n",
      "\n",
      "           0       0.69      1.00      0.81       948\n",
      "           1       1.00      0.97      0.99     15435\n",
      "\n",
      "    accuracy                           0.97     16383\n",
      "   macro avg       0.84      0.99      0.90     16383\n",
      "weighted avg       0.98      0.97      0.98     16383\n",
      "\n"
     ]
    }
   ],
   "source": [
    "from xgboost import XGBClassifier\n",
    "\n",
    "xgb_model1 = XGBClassifier(eta=0.15, colsample_bytree=0.725, eval_metric='auc', max_depth=20,gamma=0.05,min_child_weight=0.8,\n",
    "              n_estimators=1000, scale_pos_weight=0.08, reg_lambda=2,reg_alpha=2.5,subsample=0.5,random_state=0).fit(X1, y)\n",
    "\n",
    "# predict\n",
    "xgb_y_predict = xgb_model1.predict(X1)\n",
    "xgb_score = accuracy_score(xgb_y_predict, y)\n",
    "\n",
    "print('Accuracy score is:', xgb_score)\n",
    "print(roc_auc_score(y, xgb_model1.predict_proba(X1)[:, 1]))\n",
    "#print(roc_auc_score(y_test, xgb_model.predict_proba(X_test)[:, 1]))\n",
    "\n",
    "prediction=xgb_model1.predict(X1)\n",
    "print(confusion_matrix(y,prediction))\n",
    "print(accuracy_score(y,prediction))\n",
    "print(classification_report(y,prediction))"
   ]
  },
  {
   "cell_type": "code",
   "execution_count": 14,
   "id": "a380b685",
   "metadata": {
    "execution": {
     "iopub.execute_input": "2022-03-25T14:44:34.032090Z",
     "iopub.status.busy": "2022-03-25T14:44:34.031374Z",
     "iopub.status.idle": "2022-03-25T14:44:34.094227Z",
     "shell.execute_reply": "2022-03-25T14:44:34.093482Z"
    },
    "papermill": {
     "duration": 0.104899,
     "end_time": "2022-03-25T14:44:34.094380",
     "exception": false,
     "start_time": "2022-03-25T14:44:33.989481",
     "status": "completed"
    },
    "tags": []
   },
   "outputs": [
    {
     "data": {
      "text/html": [
       "<div>\n",
       "<style scoped>\n",
       "    .dataframe tbody tr th:only-of-type {\n",
       "        vertical-align: middle;\n",
       "    }\n",
       "\n",
       "    .dataframe tbody tr th {\n",
       "        vertical-align: top;\n",
       "    }\n",
       "\n",
       "    .dataframe thead th {\n",
       "        text-align: right;\n",
       "    }\n",
       "</style>\n",
       "<table border=\"1\" class=\"dataframe\">\n",
       "  <thead>\n",
       "    <tr style=\"text-align: right;\">\n",
       "      <th></th>\n",
       "      <th>0</th>\n",
       "      <th>1</th>\n",
       "      <th>2</th>\n",
       "      <th>3</th>\n",
       "      <th>4</th>\n",
       "      <th>5</th>\n",
       "      <th>6</th>\n",
       "      <th>7</th>\n",
       "      <th>8</th>\n",
       "      <th>9</th>\n",
       "      <th>...</th>\n",
       "      <th>14</th>\n",
       "      <th>15</th>\n",
       "      <th>16</th>\n",
       "      <th>17</th>\n",
       "      <th>18</th>\n",
       "      <th>19</th>\n",
       "      <th>20</th>\n",
       "      <th>21</th>\n",
       "      <th>22</th>\n",
       "      <th>23</th>\n",
       "    </tr>\n",
       "  </thead>\n",
       "  <tbody>\n",
       "    <tr>\n",
       "      <th>0</th>\n",
       "      <td>37733.0</td>\n",
       "      <td>1.0</td>\n",
       "      <td>1.77</td>\n",
       "      <td>118603.0</td>\n",
       "      <td>1.0</td>\n",
       "      <td>0.0</td>\n",
       "      <td>118602.0</td>\n",
       "      <td>118097.0</td>\n",
       "      <td>1.0</td>\n",
       "      <td>0.0</td>\n",
       "      <td>...</td>\n",
       "      <td>13881.0</td>\n",
       "      <td>117941.0</td>\n",
       "      <td>117887.0</td>\n",
       "      <td>1.0</td>\n",
       "      <td>117885.0</td>\n",
       "      <td>1.0</td>\n",
       "      <td>1.0</td>\n",
       "      <td>1.0</td>\n",
       "      <td>1.0</td>\n",
       "      <td>1.0</td>\n",
       "    </tr>\n",
       "    <tr>\n",
       "      <th>1</th>\n",
       "      <td>312129.0</td>\n",
       "      <td>1.0</td>\n",
       "      <td>3.54</td>\n",
       "      <td>118052.0</td>\n",
       "      <td>1.0</td>\n",
       "      <td>0.0</td>\n",
       "      <td>117961.0</td>\n",
       "      <td>290919.0</td>\n",
       "      <td>1.0</td>\n",
       "      <td>4.0</td>\n",
       "      <td>...</td>\n",
       "      <td>14638.0</td>\n",
       "      <td>118992.0</td>\n",
       "      <td>290919.0</td>\n",
       "      <td>1.0</td>\n",
       "      <td>118321.0</td>\n",
       "      <td>1.0</td>\n",
       "      <td>1.0</td>\n",
       "      <td>1.0</td>\n",
       "      <td>7.0</td>\n",
       "      <td>1.0</td>\n",
       "    </tr>\n",
       "    <tr>\n",
       "      <th>2</th>\n",
       "      <td>24884.0</td>\n",
       "      <td>1.0</td>\n",
       "      <td>23.01</td>\n",
       "      <td>118300.0</td>\n",
       "      <td>1.0</td>\n",
       "      <td>0.0</td>\n",
       "      <td>117961.0</td>\n",
       "      <td>302830.0</td>\n",
       "      <td>1.0</td>\n",
       "      <td>0.0</td>\n",
       "      <td>...</td>\n",
       "      <td>770.0</td>\n",
       "      <td>119181.0</td>\n",
       "      <td>4673.0</td>\n",
       "      <td>1.0</td>\n",
       "      <td>128230.0</td>\n",
       "      <td>1.0</td>\n",
       "      <td>1.0</td>\n",
       "      <td>1.0</td>\n",
       "      <td>14.0</td>\n",
       "      <td>1.0</td>\n",
       "    </tr>\n",
       "    <tr>\n",
       "      <th>3</th>\n",
       "      <td>4674.0</td>\n",
       "      <td>1.0</td>\n",
       "      <td>1.77</td>\n",
       "      <td>119091.0</td>\n",
       "      <td>1.0</td>\n",
       "      <td>0.0</td>\n",
       "      <td>119062.0</td>\n",
       "      <td>118036.0</td>\n",
       "      <td>1.0</td>\n",
       "      <td>9.0</td>\n",
       "      <td>...</td>\n",
       "      <td>16752.0</td>\n",
       "      <td>143531.0</td>\n",
       "      <td>290919.0</td>\n",
       "      <td>1.0</td>\n",
       "      <td>117905.0</td>\n",
       "      <td>1.0</td>\n",
       "      <td>1.0</td>\n",
       "      <td>1.0</td>\n",
       "      <td>81.0</td>\n",
       "      <td>1.0</td>\n",
       "    </tr>\n",
       "    <tr>\n",
       "      <th>4</th>\n",
       "      <td>68725.0</td>\n",
       "      <td>1.0</td>\n",
       "      <td>3.54</td>\n",
       "      <td>118300.0</td>\n",
       "      <td>1.0</td>\n",
       "      <td>0.0</td>\n",
       "      <td>117961.0</td>\n",
       "      <td>171056.0</td>\n",
       "      <td>1.0</td>\n",
       "      <td>0.0</td>\n",
       "      <td>...</td>\n",
       "      <td>4945.0</td>\n",
       "      <td>118360.0</td>\n",
       "      <td>118638.0</td>\n",
       "      <td>1.0</td>\n",
       "      <td>118636.0</td>\n",
       "      <td>1.0</td>\n",
       "      <td>1.0</td>\n",
       "      <td>1.0</td>\n",
       "      <td>1.0</td>\n",
       "      <td>1.0</td>\n",
       "    </tr>\n",
       "    <tr>\n",
       "      <th>...</th>\n",
       "      <td>...</td>\n",
       "      <td>...</td>\n",
       "      <td>...</td>\n",
       "      <td>...</td>\n",
       "      <td>...</td>\n",
       "      <td>...</td>\n",
       "      <td>...</td>\n",
       "      <td>...</td>\n",
       "      <td>...</td>\n",
       "      <td>...</td>\n",
       "      <td>...</td>\n",
       "      <td>...</td>\n",
       "      <td>...</td>\n",
       "      <td>...</td>\n",
       "      <td>...</td>\n",
       "      <td>...</td>\n",
       "      <td>...</td>\n",
       "      <td>...</td>\n",
       "      <td>...</td>\n",
       "      <td>...</td>\n",
       "      <td>...</td>\n",
       "    </tr>\n",
       "    <tr>\n",
       "      <th>16380</th>\n",
       "      <td>971.0</td>\n",
       "      <td>1.0</td>\n",
       "      <td>1.77</td>\n",
       "      <td>118300.0</td>\n",
       "      <td>1.0</td>\n",
       "      <td>0.0</td>\n",
       "      <td>117961.0</td>\n",
       "      <td>310997.0</td>\n",
       "      <td>1.0</td>\n",
       "      <td>0.0</td>\n",
       "      <td>...</td>\n",
       "      <td>4864.0</td>\n",
       "      <td>123055.0</td>\n",
       "      <td>118424.0</td>\n",
       "      <td>1.0</td>\n",
       "      <td>120344.0</td>\n",
       "      <td>1.0</td>\n",
       "      <td>1.0</td>\n",
       "      <td>1.0</td>\n",
       "      <td>44.0</td>\n",
       "      <td>1.0</td>\n",
       "    </tr>\n",
       "    <tr>\n",
       "      <th>16381</th>\n",
       "      <td>105802.0</td>\n",
       "      <td>1.0</td>\n",
       "      <td>1.77</td>\n",
       "      <td>118327.0</td>\n",
       "      <td>1.0</td>\n",
       "      <td>0.0</td>\n",
       "      <td>117961.0</td>\n",
       "      <td>117906.0</td>\n",
       "      <td>1.0</td>\n",
       "      <td>0.0</td>\n",
       "      <td>...</td>\n",
       "      <td>32457.0</td>\n",
       "      <td>118320.0</td>\n",
       "      <td>290919.0</td>\n",
       "      <td>1.0</td>\n",
       "      <td>118321.0</td>\n",
       "      <td>1.0</td>\n",
       "      <td>1.0</td>\n",
       "      <td>1.0</td>\n",
       "      <td>4.0</td>\n",
       "      <td>1.0</td>\n",
       "    </tr>\n",
       "    <tr>\n",
       "      <th>16382</th>\n",
       "      <td>43096.0</td>\n",
       "      <td>1.0</td>\n",
       "      <td>3.54</td>\n",
       "      <td>117962.0</td>\n",
       "      <td>1.0</td>\n",
       "      <td>0.0</td>\n",
       "      <td>117961.0</td>\n",
       "      <td>118368.0</td>\n",
       "      <td>1.0</td>\n",
       "      <td>0.0</td>\n",
       "      <td>...</td>\n",
       "      <td>2014.0</td>\n",
       "      <td>117904.0</td>\n",
       "      <td>117887.0</td>\n",
       "      <td>1.0</td>\n",
       "      <td>118368.0</td>\n",
       "      <td>1.0</td>\n",
       "      <td>1.0</td>\n",
       "      <td>1.0</td>\n",
       "      <td>1.0</td>\n",
       "      <td>1.0</td>\n",
       "    </tr>\n",
       "    <tr>\n",
       "      <th>16383</th>\n",
       "      <td>31220.0</td>\n",
       "      <td>1.0</td>\n",
       "      <td>1.77</td>\n",
       "      <td>118386.0</td>\n",
       "      <td>1.0</td>\n",
       "      <td>0.0</td>\n",
       "      <td>117961.0</td>\n",
       "      <td>117906.0</td>\n",
       "      <td>1.0</td>\n",
       "      <td>1.0</td>\n",
       "      <td>...</td>\n",
       "      <td>1249.0</td>\n",
       "      <td>118910.0</td>\n",
       "      <td>290919.0</td>\n",
       "      <td>1.0</td>\n",
       "      <td>118321.0</td>\n",
       "      <td>1.0</td>\n",
       "      <td>1.0</td>\n",
       "      <td>1.0</td>\n",
       "      <td>2.0</td>\n",
       "      <td>2.0</td>\n",
       "    </tr>\n",
       "    <tr>\n",
       "      <th>16384</th>\n",
       "      <td>41642.0</td>\n",
       "      <td>1.0</td>\n",
       "      <td>3.54</td>\n",
       "      <td>118052.0</td>\n",
       "      <td>1.0</td>\n",
       "      <td>0.0</td>\n",
       "      <td>117961.0</td>\n",
       "      <td>172635.0</td>\n",
       "      <td>1.0</td>\n",
       "      <td>4.0</td>\n",
       "      <td>...</td>\n",
       "      <td>13854.0</td>\n",
       "      <td>118821.0</td>\n",
       "      <td>290919.0</td>\n",
       "      <td>1.0</td>\n",
       "      <td>117905.0</td>\n",
       "      <td>1.0</td>\n",
       "      <td>1.0</td>\n",
       "      <td>1.0</td>\n",
       "      <td>1.0</td>\n",
       "      <td>1.0</td>\n",
       "    </tr>\n",
       "  </tbody>\n",
       "</table>\n",
       "<p>16385 rows × 24 columns</p>\n",
       "</div>"
      ],
      "text/plain": [
       "             0    1      2         3    4    5         6         7    8    9   \\\n",
       "0       37733.0  1.0   1.77  118603.0  1.0  0.0  118602.0  118097.0  1.0  0.0   \n",
       "1      312129.0  1.0   3.54  118052.0  1.0  0.0  117961.0  290919.0  1.0  4.0   \n",
       "2       24884.0  1.0  23.01  118300.0  1.0  0.0  117961.0  302830.0  1.0  0.0   \n",
       "3        4674.0  1.0   1.77  119091.0  1.0  0.0  119062.0  118036.0  1.0  9.0   \n",
       "4       68725.0  1.0   3.54  118300.0  1.0  0.0  117961.0  171056.0  1.0  0.0   \n",
       "...         ...  ...    ...       ...  ...  ...       ...       ...  ...  ...   \n",
       "16380     971.0  1.0   1.77  118300.0  1.0  0.0  117961.0  310997.0  1.0  0.0   \n",
       "16381  105802.0  1.0   1.77  118327.0  1.0  0.0  117961.0  117906.0  1.0  0.0   \n",
       "16382   43096.0  1.0   3.54  117962.0  1.0  0.0  117961.0  118368.0  1.0  0.0   \n",
       "16383   31220.0  1.0   1.77  118386.0  1.0  0.0  117961.0  117906.0  1.0  1.0   \n",
       "16384   41642.0  1.0   3.54  118052.0  1.0  0.0  117961.0  172635.0  1.0  4.0   \n",
       "\n",
       "       ...       14        15        16   17        18   19   20   21    22  \\\n",
       "0      ...  13881.0  117941.0  117887.0  1.0  117885.0  1.0  1.0  1.0   1.0   \n",
       "1      ...  14638.0  118992.0  290919.0  1.0  118321.0  1.0  1.0  1.0   7.0   \n",
       "2      ...    770.0  119181.0    4673.0  1.0  128230.0  1.0  1.0  1.0  14.0   \n",
       "3      ...  16752.0  143531.0  290919.0  1.0  117905.0  1.0  1.0  1.0  81.0   \n",
       "4      ...   4945.0  118360.0  118638.0  1.0  118636.0  1.0  1.0  1.0   1.0   \n",
       "...    ...      ...       ...       ...  ...       ...  ...  ...  ...   ...   \n",
       "16380  ...   4864.0  123055.0  118424.0  1.0  120344.0  1.0  1.0  1.0  44.0   \n",
       "16381  ...  32457.0  118320.0  290919.0  1.0  118321.0  1.0  1.0  1.0   4.0   \n",
       "16382  ...   2014.0  117904.0  117887.0  1.0  118368.0  1.0  1.0  1.0   1.0   \n",
       "16383  ...   1249.0  118910.0  290919.0  1.0  118321.0  1.0  1.0  1.0   2.0   \n",
       "16384  ...  13854.0  118821.0  290919.0  1.0  117905.0  1.0  1.0  1.0   1.0   \n",
       "\n",
       "        23  \n",
       "0      1.0  \n",
       "1      1.0  \n",
       "2      1.0  \n",
       "3      1.0  \n",
       "4      1.0  \n",
       "...    ...  \n",
       "16380  1.0  \n",
       "16381  1.0  \n",
       "16382  1.0  \n",
       "16383  2.0  \n",
       "16384  1.0  \n",
       "\n",
       "[16385 rows x 24 columns]"
      ]
     },
     "execution_count": 14,
     "metadata": {},
     "output_type": "execute_result"
    }
   ],
   "source": [
    "Xt=df_test.drop(['Id'],axis=1)\n",
    "Xt=np.array(Xt)\n",
    "Xt=pd.DataFrame(Xt)\n",
    "Xt"
   ]
  },
  {
   "cell_type": "code",
   "execution_count": 15,
   "id": "42f4b360",
   "metadata": {
    "execution": {
     "iopub.execute_input": "2022-03-25T14:44:34.196751Z",
     "iopub.status.busy": "2022-03-25T14:44:34.187194Z",
     "iopub.status.idle": "2022-03-25T14:44:34.199896Z",
     "shell.execute_reply": "2022-03-25T14:44:34.200497Z"
    },
    "papermill": {
     "duration": 0.067635,
     "end_time": "2022-03-25T14:44:34.200734",
     "exception": false,
     "start_time": "2022-03-25T14:44:34.133099",
     "status": "completed"
    },
    "tags": []
   },
   "outputs": [
    {
     "name": "stdout",
     "output_type": "stream",
     "text": [
      "             0         3    4         6         7    8    10        12  \\\n",
      "0       37733.0  118603.0  1.0  118602.0  118097.0  1.0  1.0  117888.0   \n",
      "1      312129.0  118052.0  1.0  117961.0  290919.0  1.0  1.0  118322.0   \n",
      "2       24884.0  118300.0  1.0  117961.0  302830.0  1.0  1.0  128231.0   \n",
      "3        4674.0  119091.0  1.0  119062.0  118036.0  1.0  1.0  117908.0   \n",
      "4       68725.0  118300.0  1.0  117961.0  171056.0  1.0  1.0  118639.0   \n",
      "...         ...       ...  ...       ...       ...  ...  ...       ...   \n",
      "16380     971.0  118300.0  1.0  117961.0  310997.0  1.0  1.0  120346.0   \n",
      "16381  105802.0  118327.0  1.0  117961.0  117906.0  1.0  1.0  118322.0   \n",
      "16382   43096.0  117962.0  1.0  117961.0  118368.0  1.0  1.0  118486.0   \n",
      "16383   31220.0  118386.0  1.0  117961.0  117906.0  1.0  1.0  118322.0   \n",
      "16384   41642.0  118052.0  1.0  117961.0  172635.0  1.0  1.0  117908.0   \n",
      "\n",
      "             13       14        15        16        18   19   23  \n",
      "0      2.453740  13881.0  117941.0  117887.0  117885.0  1.0  1.0  \n",
      "1     -0.012317  14638.0  118992.0  290919.0  118321.0  1.0  1.0  \n",
      "2      1.000000    770.0  119181.0    4673.0  128230.0  1.0  1.0  \n",
      "3      1.000000  16752.0  143531.0  290919.0  117905.0  1.0  1.0  \n",
      "4     -0.503250   4945.0  118360.0  118638.0  118636.0  1.0  1.0  \n",
      "...         ...      ...       ...       ...       ...  ...  ...  \n",
      "16380  1.000000   4864.0  123055.0  118424.0  120344.0  1.0  1.0  \n",
      "16381  0.580688  32457.0  118320.0  290919.0  118321.0  1.0  1.0  \n",
      "16382  1.000000   2014.0  117904.0  117887.0  118368.0  1.0  1.0  \n",
      "16383 -2.374507   1249.0  118910.0  290919.0  118321.0  1.0  2.0  \n",
      "16384  2.714601  13854.0  118821.0  290919.0  117905.0  1.0  1.0  \n",
      "\n",
      "[16385 rows x 15 columns]\n"
     ]
    }
   ],
   "source": [
    "Xt1 = Xt[Xt.columns.intersection(lb)]\n",
    "#Xt1=np.array(Xt1)\n",
    "print(Xt1)"
   ]
  },
  {
   "cell_type": "code",
   "execution_count": 16,
   "id": "8ac2e581",
   "metadata": {
    "execution": {
     "iopub.execute_input": "2022-03-25T14:44:34.292442Z",
     "iopub.status.busy": "2022-03-25T14:44:34.291738Z",
     "iopub.status.idle": "2022-03-25T14:44:39.028251Z",
     "shell.execute_reply": "2022-03-25T14:44:39.029427Z"
    },
    "papermill": {
     "duration": 4.78778,
     "end_time": "2022-03-25T14:44:39.029699",
     "exception": false,
     "start_time": "2022-03-25T14:44:34.241919",
     "status": "completed"
    },
    "tags": []
   },
   "outputs": [
    {
     "data": {
      "text/plain": [
       "array([[9.57807437e-02, 9.04219262e-01],\n",
       "       [2.79224224e-01, 7.20775786e-01],\n",
       "       [1.35623068e-03, 9.98643775e-01],\n",
       "       ...,\n",
       "       [6.16603345e-04, 9.99383403e-01],\n",
       "       [4.57136639e-02, 9.54286342e-01],\n",
       "       [1.23869689e-01, 8.76130319e-01]])"
      ]
     },
     "execution_count": 16,
     "metadata": {},
     "output_type": "execute_result"
    }
   ],
   "source": [
    "preds=0.85*rf4.predict_proba(Xt1)+0.15*xgb_model1.predict_proba(Xt1)\n",
    "preds"
   ]
  },
  {
   "cell_type": "code",
   "execution_count": 17,
   "id": "6c3296bb",
   "metadata": {
    "execution": {
     "iopub.execute_input": "2022-03-25T14:44:39.117381Z",
     "iopub.status.busy": "2022-03-25T14:44:39.116530Z",
     "iopub.status.idle": "2022-03-25T14:44:44.300696Z",
     "shell.execute_reply": "2022-03-25T14:44:44.301863Z"
    },
    "papermill": {
     "duration": 5.230554,
     "end_time": "2022-03-25T14:44:44.302510",
     "exception": false,
     "start_time": "2022-03-25T14:44:39.071956",
     "status": "completed"
    },
    "tags": []
   },
   "outputs": [
    {
     "data": {
      "text/plain": [
       "array([1., 1., 1., ..., 1., 1., 1.])"
      ]
     },
     "execution_count": 17,
     "metadata": {},
     "output_type": "execute_result"
    }
   ],
   "source": [
    "pr=0.85*rf4.predict(Xt1)+0.15*xgb_model1.predict(Xt1)\n",
    "pr"
   ]
  },
  {
   "cell_type": "code",
   "execution_count": 18,
   "id": "47271b6b",
   "metadata": {
    "execution": {
     "iopub.execute_input": "2022-03-25T14:44:44.397655Z",
     "iopub.status.busy": "2022-03-25T14:44:44.396888Z",
     "iopub.status.idle": "2022-03-25T14:44:44.413131Z",
     "shell.execute_reply": "2022-03-25T14:44:44.412505Z"
    },
    "papermill": {
     "duration": 0.064795,
     "end_time": "2022-03-25T14:44:44.413293",
     "exception": false,
     "start_time": "2022-03-25T14:44:44.348498",
     "status": "completed"
    },
    "tags": []
   },
   "outputs": [
    {
     "name": "stderr",
     "output_type": "stream",
     "text": [
      "/opt/conda/lib/python3.7/site-packages/ipykernel_launcher.py:1: FutureWarning: In a future version, passing float-dtype values and an integer dtype to DataFrame will retain floating dtype if they cannot be cast losslessly (matching Series behavior). To retain the old behavior, use DataFrame(data).astype(dtype)\n",
      "  \"\"\"Entry point for launching an IPython kernel.\n"
     ]
    },
    {
     "data": {
      "text/html": [
       "<div>\n",
       "<style scoped>\n",
       "    .dataframe tbody tr th:only-of-type {\n",
       "        vertical-align: middle;\n",
       "    }\n",
       "\n",
       "    .dataframe tbody tr th {\n",
       "        vertical-align: top;\n",
       "    }\n",
       "\n",
       "    .dataframe thead th {\n",
       "        text-align: right;\n",
       "    }\n",
       "</style>\n",
       "<table border=\"1\" class=\"dataframe\">\n",
       "  <thead>\n",
       "    <tr style=\"text-align: right;\">\n",
       "      <th></th>\n",
       "      <th>0</th>\n",
       "    </tr>\n",
       "  </thead>\n",
       "  <tbody>\n",
       "    <tr>\n",
       "      <th>0</th>\n",
       "      <td>1</td>\n",
       "    </tr>\n",
       "    <tr>\n",
       "      <th>1</th>\n",
       "      <td>1</td>\n",
       "    </tr>\n",
       "    <tr>\n",
       "      <th>2</th>\n",
       "      <td>1</td>\n",
       "    </tr>\n",
       "    <tr>\n",
       "      <th>3</th>\n",
       "      <td>1</td>\n",
       "    </tr>\n",
       "    <tr>\n",
       "      <th>4</th>\n",
       "      <td>1</td>\n",
       "    </tr>\n",
       "    <tr>\n",
       "      <th>...</th>\n",
       "      <td>...</td>\n",
       "    </tr>\n",
       "    <tr>\n",
       "      <th>16380</th>\n",
       "      <td>1</td>\n",
       "    </tr>\n",
       "    <tr>\n",
       "      <th>16381</th>\n",
       "      <td>1</td>\n",
       "    </tr>\n",
       "    <tr>\n",
       "      <th>16382</th>\n",
       "      <td>1</td>\n",
       "    </tr>\n",
       "    <tr>\n",
       "      <th>16383</th>\n",
       "      <td>1</td>\n",
       "    </tr>\n",
       "    <tr>\n",
       "      <th>16384</th>\n",
       "      <td>1</td>\n",
       "    </tr>\n",
       "  </tbody>\n",
       "</table>\n",
       "<p>16385 rows × 1 columns</p>\n",
       "</div>"
      ],
      "text/plain": [
       "       0\n",
       "0      1\n",
       "1      1\n",
       "2      1\n",
       "3      1\n",
       "4      1\n",
       "...   ..\n",
       "16380  1\n",
       "16381  1\n",
       "16382  1\n",
       "16383  1\n",
       "16384  1\n",
       "\n",
       "[16385 rows x 1 columns]"
      ]
     },
     "execution_count": 18,
     "metadata": {},
     "output_type": "execute_result"
    }
   ],
   "source": [
    "yt=pd.DataFrame(pr,dtype=int)\n",
    "yt"
   ]
  },
  {
   "cell_type": "code",
   "execution_count": 19,
   "id": "d5854a22",
   "metadata": {
    "execution": {
     "iopub.execute_input": "2022-03-25T14:44:44.512236Z",
     "iopub.status.busy": "2022-03-25T14:44:44.511479Z",
     "iopub.status.idle": "2022-03-25T14:44:44.521134Z",
     "shell.execute_reply": "2022-03-25T14:44:44.521671Z"
    },
    "papermill": {
     "duration": 0.060552,
     "end_time": "2022-03-25T14:44:44.522071",
     "exception": false,
     "start_time": "2022-03-25T14:44:44.461519",
     "status": "completed"
    },
    "tags": []
   },
   "outputs": [
    {
     "data": {
      "text/plain": [
       "1    15164\n",
       "0     1221\n",
       "dtype: int64"
      ]
     },
     "execution_count": 19,
     "metadata": {},
     "output_type": "execute_result"
    }
   ],
   "source": [
    "yt.value_counts()"
   ]
  },
  {
   "cell_type": "code",
   "execution_count": 20,
   "id": "12a51d21",
   "metadata": {
    "execution": {
     "iopub.execute_input": "2022-03-25T14:44:44.614252Z",
     "iopub.status.busy": "2022-03-25T14:44:44.613451Z",
     "iopub.status.idle": "2022-03-25T14:44:44.625129Z",
     "shell.execute_reply": "2022-03-25T14:44:44.625640Z"
    },
    "papermill": {
     "duration": 0.059222,
     "end_time": "2022-03-25T14:44:44.625848",
     "exception": false,
     "start_time": "2022-03-25T14:44:44.566626",
     "status": "completed"
    },
    "tags": []
   },
   "outputs": [
    {
     "data": {
      "text/html": [
       "<div>\n",
       "<style scoped>\n",
       "    .dataframe tbody tr th:only-of-type {\n",
       "        vertical-align: middle;\n",
       "    }\n",
       "\n",
       "    .dataframe tbody tr th {\n",
       "        vertical-align: top;\n",
       "    }\n",
       "\n",
       "    .dataframe thead th {\n",
       "        text-align: right;\n",
       "    }\n",
       "</style>\n",
       "<table border=\"1\" class=\"dataframe\">\n",
       "  <thead>\n",
       "    <tr style=\"text-align: right;\">\n",
       "      <th></th>\n",
       "      <th>0</th>\n",
       "    </tr>\n",
       "  </thead>\n",
       "  <tbody>\n",
       "    <tr>\n",
       "      <th>0</th>\n",
       "      <td>1</td>\n",
       "    </tr>\n",
       "    <tr>\n",
       "      <th>1</th>\n",
       "      <td>1</td>\n",
       "    </tr>\n",
       "    <tr>\n",
       "      <th>2</th>\n",
       "      <td>1</td>\n",
       "    </tr>\n",
       "    <tr>\n",
       "      <th>3</th>\n",
       "      <td>1</td>\n",
       "    </tr>\n",
       "    <tr>\n",
       "      <th>4</th>\n",
       "      <td>1</td>\n",
       "    </tr>\n",
       "    <tr>\n",
       "      <th>...</th>\n",
       "      <td>...</td>\n",
       "    </tr>\n",
       "    <tr>\n",
       "      <th>16378</th>\n",
       "      <td>1</td>\n",
       "    </tr>\n",
       "    <tr>\n",
       "      <th>16379</th>\n",
       "      <td>1</td>\n",
       "    </tr>\n",
       "    <tr>\n",
       "      <th>16380</th>\n",
       "      <td>1</td>\n",
       "    </tr>\n",
       "    <tr>\n",
       "      <th>16381</th>\n",
       "      <td>1</td>\n",
       "    </tr>\n",
       "    <tr>\n",
       "      <th>16382</th>\n",
       "      <td>1</td>\n",
       "    </tr>\n",
       "  </tbody>\n",
       "</table>\n",
       "<p>16383 rows × 1 columns</p>\n",
       "</div>"
      ],
      "text/plain": [
       "       0\n",
       "0      1\n",
       "1      1\n",
       "2      1\n",
       "3      1\n",
       "4      1\n",
       "...   ..\n",
       "16378  1\n",
       "16379  1\n",
       "16380  1\n",
       "16381  1\n",
       "16382  1\n",
       "\n",
       "[16383 rows x 1 columns]"
      ]
     },
     "execution_count": 20,
     "metadata": {},
     "output_type": "execute_result"
    }
   ],
   "source": [
    "y"
   ]
  },
  {
   "cell_type": "code",
   "execution_count": 21,
   "id": "621d9a89",
   "metadata": {
    "execution": {
     "iopub.execute_input": "2022-03-25T14:44:44.729099Z",
     "iopub.status.busy": "2022-03-25T14:44:44.727972Z",
     "iopub.status.idle": "2022-03-25T14:44:44.737671Z",
     "shell.execute_reply": "2022-03-25T14:44:44.738188Z"
    },
    "papermill": {
     "duration": 0.066399,
     "end_time": "2022-03-25T14:44:44.738385",
     "exception": false,
     "start_time": "2022-03-25T14:44:44.671986",
     "status": "completed"
    },
    "tags": []
   },
   "outputs": [
    {
     "data": {
      "text/html": [
       "<div>\n",
       "<style scoped>\n",
       "    .dataframe tbody tr th:only-of-type {\n",
       "        vertical-align: middle;\n",
       "    }\n",
       "\n",
       "    .dataframe tbody tr th {\n",
       "        vertical-align: top;\n",
       "    }\n",
       "\n",
       "    .dataframe thead th {\n",
       "        text-align: right;\n",
       "    }\n",
       "</style>\n",
       "<table border=\"1\" class=\"dataframe\">\n",
       "  <thead>\n",
       "    <tr style=\"text-align: right;\">\n",
       "      <th></th>\n",
       "      <th>0</th>\n",
       "    </tr>\n",
       "  </thead>\n",
       "  <tbody>\n",
       "    <tr>\n",
       "      <th>0</th>\n",
       "      <td>1</td>\n",
       "    </tr>\n",
       "    <tr>\n",
       "      <th>1</th>\n",
       "      <td>1</td>\n",
       "    </tr>\n",
       "    <tr>\n",
       "      <th>2</th>\n",
       "      <td>1</td>\n",
       "    </tr>\n",
       "    <tr>\n",
       "      <th>3</th>\n",
       "      <td>1</td>\n",
       "    </tr>\n",
       "    <tr>\n",
       "      <th>4</th>\n",
       "      <td>1</td>\n",
       "    </tr>\n",
       "    <tr>\n",
       "      <th>...</th>\n",
       "      <td>...</td>\n",
       "    </tr>\n",
       "    <tr>\n",
       "      <th>16380</th>\n",
       "      <td>1</td>\n",
       "    </tr>\n",
       "    <tr>\n",
       "      <th>16381</th>\n",
       "      <td>1</td>\n",
       "    </tr>\n",
       "    <tr>\n",
       "      <th>16382</th>\n",
       "      <td>1</td>\n",
       "    </tr>\n",
       "    <tr>\n",
       "      <th>16383</th>\n",
       "      <td>1</td>\n",
       "    </tr>\n",
       "    <tr>\n",
       "      <th>16384</th>\n",
       "      <td>1</td>\n",
       "    </tr>\n",
       "  </tbody>\n",
       "</table>\n",
       "<p>32768 rows × 1 columns</p>\n",
       "</div>"
      ],
      "text/plain": [
       "       0\n",
       "0      1\n",
       "1      1\n",
       "2      1\n",
       "3      1\n",
       "4      1\n",
       "...   ..\n",
       "16380  1\n",
       "16381  1\n",
       "16382  1\n",
       "16383  1\n",
       "16384  1\n",
       "\n",
       "[32768 rows x 1 columns]"
      ]
     },
     "execution_count": 21,
     "metadata": {},
     "output_type": "execute_result"
    }
   ],
   "source": [
    "y=pd.DataFrame(y)\n",
    "y_final=pd.concat([y,yt])\n",
    "y_final"
   ]
  },
  {
   "cell_type": "code",
   "execution_count": 22,
   "id": "a5261d17",
   "metadata": {
    "execution": {
     "iopub.execute_input": "2022-03-25T14:44:44.848163Z",
     "iopub.status.busy": "2022-03-25T14:44:44.846907Z",
     "iopub.status.idle": "2022-03-25T14:44:44.858076Z",
     "shell.execute_reply": "2022-03-25T14:44:44.857149Z"
    },
    "papermill": {
     "duration": 0.072233,
     "end_time": "2022-03-25T14:44:44.858251",
     "exception": false,
     "start_time": "2022-03-25T14:44:44.786018",
     "status": "completed"
    },
    "tags": []
   },
   "outputs": [
    {
     "data": {
      "text/plain": [
       "1    30599\n",
       "0     2169\n",
       "dtype: int64"
      ]
     },
     "execution_count": 22,
     "metadata": {},
     "output_type": "execute_result"
    }
   ],
   "source": [
    "y_final.value_counts()"
   ]
  },
  {
   "cell_type": "code",
   "execution_count": 23,
   "id": "7c7c2476",
   "metadata": {
    "execution": {
     "iopub.execute_input": "2022-03-25T14:44:44.971832Z",
     "iopub.status.busy": "2022-03-25T14:44:44.971078Z",
     "iopub.status.idle": "2022-03-25T14:44:45.032311Z",
     "shell.execute_reply": "2022-03-25T14:44:45.032950Z"
    },
    "papermill": {
     "duration": 0.121749,
     "end_time": "2022-03-25T14:44:45.033184",
     "exception": false,
     "start_time": "2022-03-25T14:44:44.911435",
     "status": "completed"
    },
    "tags": []
   },
   "outputs": [
    {
     "data": {
      "text/html": [
       "<div>\n",
       "<style scoped>\n",
       "    .dataframe tbody tr th:only-of-type {\n",
       "        vertical-align: middle;\n",
       "    }\n",
       "\n",
       "    .dataframe tbody tr th {\n",
       "        vertical-align: top;\n",
       "    }\n",
       "\n",
       "    .dataframe thead th {\n",
       "        text-align: right;\n",
       "    }\n",
       "</style>\n",
       "<table border=\"1\" class=\"dataframe\">\n",
       "  <thead>\n",
       "    <tr style=\"text-align: right;\">\n",
       "      <th></th>\n",
       "      <th>0</th>\n",
       "      <th>1</th>\n",
       "      <th>2</th>\n",
       "      <th>3</th>\n",
       "      <th>4</th>\n",
       "      <th>5</th>\n",
       "      <th>6</th>\n",
       "      <th>7</th>\n",
       "      <th>8</th>\n",
       "      <th>9</th>\n",
       "      <th>...</th>\n",
       "      <th>14</th>\n",
       "      <th>15</th>\n",
       "      <th>16</th>\n",
       "      <th>17</th>\n",
       "      <th>18</th>\n",
       "      <th>19</th>\n",
       "      <th>20</th>\n",
       "      <th>21</th>\n",
       "      <th>22</th>\n",
       "      <th>23</th>\n",
       "    </tr>\n",
       "  </thead>\n",
       "  <tbody>\n",
       "    <tr>\n",
       "      <th>0</th>\n",
       "      <td>15006.0</td>\n",
       "      <td>1.0</td>\n",
       "      <td>8.85</td>\n",
       "      <td>118213.0</td>\n",
       "      <td>1.0</td>\n",
       "      <td>0.0</td>\n",
       "      <td>118212.0</td>\n",
       "      <td>117906.0</td>\n",
       "      <td>1.0</td>\n",
       "      <td>5.0</td>\n",
       "      <td>...</td>\n",
       "      <td>7399.0</td>\n",
       "      <td>123201.0</td>\n",
       "      <td>290919.0</td>\n",
       "      <td>1.0</td>\n",
       "      <td>117905.0</td>\n",
       "      <td>1.0</td>\n",
       "      <td>1.0</td>\n",
       "      <td>1.0</td>\n",
       "      <td>1.0</td>\n",
       "      <td>1.0</td>\n",
       "    </tr>\n",
       "    <tr>\n",
       "      <th>1</th>\n",
       "      <td>4674.0</td>\n",
       "      <td>1.0</td>\n",
       "      <td>1.77</td>\n",
       "      <td>118327.0</td>\n",
       "      <td>1.0</td>\n",
       "      <td>0.0</td>\n",
       "      <td>117961.0</td>\n",
       "      <td>117906.0</td>\n",
       "      <td>1.0</td>\n",
       "      <td>0.0</td>\n",
       "      <td>...</td>\n",
       "      <td>7644.0</td>\n",
       "      <td>120318.0</td>\n",
       "      <td>290919.0</td>\n",
       "      <td>1.0</td>\n",
       "      <td>117905.0</td>\n",
       "      <td>1.0</td>\n",
       "      <td>1.0</td>\n",
       "      <td>1.0</td>\n",
       "      <td>1.0</td>\n",
       "      <td>1.0</td>\n",
       "    </tr>\n",
       "    <tr>\n",
       "      <th>2</th>\n",
       "      <td>80176.0</td>\n",
       "      <td>1.0</td>\n",
       "      <td>1.77</td>\n",
       "      <td>118343.0</td>\n",
       "      <td>1.0</td>\n",
       "      <td>0.0</td>\n",
       "      <td>117961.0</td>\n",
       "      <td>117906.0</td>\n",
       "      <td>2.0</td>\n",
       "      <td>2.0</td>\n",
       "      <td>...</td>\n",
       "      <td>4004.0</td>\n",
       "      <td>118856.0</td>\n",
       "      <td>290919.0</td>\n",
       "      <td>1.0</td>\n",
       "      <td>117905.0</td>\n",
       "      <td>1.0</td>\n",
       "      <td>1.0</td>\n",
       "      <td>1.0</td>\n",
       "      <td>1.0</td>\n",
       "      <td>1.0</td>\n",
       "    </tr>\n",
       "    <tr>\n",
       "      <th>3</th>\n",
       "      <td>83045.0</td>\n",
       "      <td>1.0</td>\n",
       "      <td>1.77</td>\n",
       "      <td>117903.0</td>\n",
       "      <td>2.0</td>\n",
       "      <td>0.0</td>\n",
       "      <td>117902.0</td>\n",
       "      <td>117906.0</td>\n",
       "      <td>1.0</td>\n",
       "      <td>0.0</td>\n",
       "      <td>...</td>\n",
       "      <td>7393.0</td>\n",
       "      <td>120428.0</td>\n",
       "      <td>290919.0</td>\n",
       "      <td>1.0</td>\n",
       "      <td>117905.0</td>\n",
       "      <td>1.0</td>\n",
       "      <td>1.0</td>\n",
       "      <td>1.0</td>\n",
       "      <td>7.0</td>\n",
       "      <td>1.0</td>\n",
       "    </tr>\n",
       "    <tr>\n",
       "      <th>4</th>\n",
       "      <td>42679.0</td>\n",
       "      <td>1.0</td>\n",
       "      <td>1.77</td>\n",
       "      <td>117962.0</td>\n",
       "      <td>1.0</td>\n",
       "      <td>0.0</td>\n",
       "      <td>117961.0</td>\n",
       "      <td>130085.0</td>\n",
       "      <td>1.0</td>\n",
       "      <td>5.0</td>\n",
       "      <td>...</td>\n",
       "      <td>44022.0</td>\n",
       "      <td>122215.0</td>\n",
       "      <td>290919.0</td>\n",
       "      <td>1.0</td>\n",
       "      <td>120172.0</td>\n",
       "      <td>1.0</td>\n",
       "      <td>2.0</td>\n",
       "      <td>1.0</td>\n",
       "      <td>16.0</td>\n",
       "      <td>1.0</td>\n",
       "    </tr>\n",
       "    <tr>\n",
       "      <th>...</th>\n",
       "      <td>...</td>\n",
       "      <td>...</td>\n",
       "      <td>...</td>\n",
       "      <td>...</td>\n",
       "      <td>...</td>\n",
       "      <td>...</td>\n",
       "      <td>...</td>\n",
       "      <td>...</td>\n",
       "      <td>...</td>\n",
       "      <td>...</td>\n",
       "      <td>...</td>\n",
       "      <td>...</td>\n",
       "      <td>...</td>\n",
       "      <td>...</td>\n",
       "      <td>...</td>\n",
       "      <td>...</td>\n",
       "      <td>...</td>\n",
       "      <td>...</td>\n",
       "      <td>...</td>\n",
       "      <td>...</td>\n",
       "      <td>...</td>\n",
       "    </tr>\n",
       "    <tr>\n",
       "      <th>32763</th>\n",
       "      <td>971.0</td>\n",
       "      <td>1.0</td>\n",
       "      <td>1.77</td>\n",
       "      <td>118300.0</td>\n",
       "      <td>1.0</td>\n",
       "      <td>0.0</td>\n",
       "      <td>117961.0</td>\n",
       "      <td>310997.0</td>\n",
       "      <td>1.0</td>\n",
       "      <td>0.0</td>\n",
       "      <td>...</td>\n",
       "      <td>4864.0</td>\n",
       "      <td>123055.0</td>\n",
       "      <td>118424.0</td>\n",
       "      <td>1.0</td>\n",
       "      <td>120344.0</td>\n",
       "      <td>1.0</td>\n",
       "      <td>1.0</td>\n",
       "      <td>1.0</td>\n",
       "      <td>44.0</td>\n",
       "      <td>1.0</td>\n",
       "    </tr>\n",
       "    <tr>\n",
       "      <th>32764</th>\n",
       "      <td>105802.0</td>\n",
       "      <td>1.0</td>\n",
       "      <td>1.77</td>\n",
       "      <td>118327.0</td>\n",
       "      <td>1.0</td>\n",
       "      <td>0.0</td>\n",
       "      <td>117961.0</td>\n",
       "      <td>117906.0</td>\n",
       "      <td>1.0</td>\n",
       "      <td>0.0</td>\n",
       "      <td>...</td>\n",
       "      <td>32457.0</td>\n",
       "      <td>118320.0</td>\n",
       "      <td>290919.0</td>\n",
       "      <td>1.0</td>\n",
       "      <td>118321.0</td>\n",
       "      <td>1.0</td>\n",
       "      <td>1.0</td>\n",
       "      <td>1.0</td>\n",
       "      <td>4.0</td>\n",
       "      <td>1.0</td>\n",
       "    </tr>\n",
       "    <tr>\n",
       "      <th>32765</th>\n",
       "      <td>43096.0</td>\n",
       "      <td>1.0</td>\n",
       "      <td>3.54</td>\n",
       "      <td>117962.0</td>\n",
       "      <td>1.0</td>\n",
       "      <td>0.0</td>\n",
       "      <td>117961.0</td>\n",
       "      <td>118368.0</td>\n",
       "      <td>1.0</td>\n",
       "      <td>0.0</td>\n",
       "      <td>...</td>\n",
       "      <td>2014.0</td>\n",
       "      <td>117904.0</td>\n",
       "      <td>117887.0</td>\n",
       "      <td>1.0</td>\n",
       "      <td>118368.0</td>\n",
       "      <td>1.0</td>\n",
       "      <td>1.0</td>\n",
       "      <td>1.0</td>\n",
       "      <td>1.0</td>\n",
       "      <td>1.0</td>\n",
       "    </tr>\n",
       "    <tr>\n",
       "      <th>32766</th>\n",
       "      <td>31220.0</td>\n",
       "      <td>1.0</td>\n",
       "      <td>1.77</td>\n",
       "      <td>118386.0</td>\n",
       "      <td>1.0</td>\n",
       "      <td>0.0</td>\n",
       "      <td>117961.0</td>\n",
       "      <td>117906.0</td>\n",
       "      <td>1.0</td>\n",
       "      <td>1.0</td>\n",
       "      <td>...</td>\n",
       "      <td>1249.0</td>\n",
       "      <td>118910.0</td>\n",
       "      <td>290919.0</td>\n",
       "      <td>1.0</td>\n",
       "      <td>118321.0</td>\n",
       "      <td>1.0</td>\n",
       "      <td>1.0</td>\n",
       "      <td>1.0</td>\n",
       "      <td>2.0</td>\n",
       "      <td>2.0</td>\n",
       "    </tr>\n",
       "    <tr>\n",
       "      <th>32767</th>\n",
       "      <td>41642.0</td>\n",
       "      <td>1.0</td>\n",
       "      <td>3.54</td>\n",
       "      <td>118052.0</td>\n",
       "      <td>1.0</td>\n",
       "      <td>0.0</td>\n",
       "      <td>117961.0</td>\n",
       "      <td>172635.0</td>\n",
       "      <td>1.0</td>\n",
       "      <td>4.0</td>\n",
       "      <td>...</td>\n",
       "      <td>13854.0</td>\n",
       "      <td>118821.0</td>\n",
       "      <td>290919.0</td>\n",
       "      <td>1.0</td>\n",
       "      <td>117905.0</td>\n",
       "      <td>1.0</td>\n",
       "      <td>1.0</td>\n",
       "      <td>1.0</td>\n",
       "      <td>1.0</td>\n",
       "      <td>1.0</td>\n",
       "    </tr>\n",
       "  </tbody>\n",
       "</table>\n",
       "<p>32768 rows × 24 columns</p>\n",
       "</div>"
      ],
      "text/plain": [
       "             0    1     2         3    4    5         6         7    8    9   \\\n",
       "0       15006.0  1.0  8.85  118213.0  1.0  0.0  118212.0  117906.0  1.0  5.0   \n",
       "1        4674.0  1.0  1.77  118327.0  1.0  0.0  117961.0  117906.0  1.0  0.0   \n",
       "2       80176.0  1.0  1.77  118343.0  1.0  0.0  117961.0  117906.0  2.0  2.0   \n",
       "3       83045.0  1.0  1.77  117903.0  2.0  0.0  117902.0  117906.0  1.0  0.0   \n",
       "4       42679.0  1.0  1.77  117962.0  1.0  0.0  117961.0  130085.0  1.0  5.0   \n",
       "...         ...  ...   ...       ...  ...  ...       ...       ...  ...  ...   \n",
       "32763     971.0  1.0  1.77  118300.0  1.0  0.0  117961.0  310997.0  1.0  0.0   \n",
       "32764  105802.0  1.0  1.77  118327.0  1.0  0.0  117961.0  117906.0  1.0  0.0   \n",
       "32765   43096.0  1.0  3.54  117962.0  1.0  0.0  117961.0  118368.0  1.0  0.0   \n",
       "32766   31220.0  1.0  1.77  118386.0  1.0  0.0  117961.0  117906.0  1.0  1.0   \n",
       "32767   41642.0  1.0  3.54  118052.0  1.0  0.0  117961.0  172635.0  1.0  4.0   \n",
       "\n",
       "       ...       14        15        16   17        18   19   20   21    22  \\\n",
       "0      ...   7399.0  123201.0  290919.0  1.0  117905.0  1.0  1.0  1.0   1.0   \n",
       "1      ...   7644.0  120318.0  290919.0  1.0  117905.0  1.0  1.0  1.0   1.0   \n",
       "2      ...   4004.0  118856.0  290919.0  1.0  117905.0  1.0  1.0  1.0   1.0   \n",
       "3      ...   7393.0  120428.0  290919.0  1.0  117905.0  1.0  1.0  1.0   7.0   \n",
       "4      ...  44022.0  122215.0  290919.0  1.0  120172.0  1.0  2.0  1.0  16.0   \n",
       "...    ...      ...       ...       ...  ...       ...  ...  ...  ...   ...   \n",
       "32763  ...   4864.0  123055.0  118424.0  1.0  120344.0  1.0  1.0  1.0  44.0   \n",
       "32764  ...  32457.0  118320.0  290919.0  1.0  118321.0  1.0  1.0  1.0   4.0   \n",
       "32765  ...   2014.0  117904.0  117887.0  1.0  118368.0  1.0  1.0  1.0   1.0   \n",
       "32766  ...   1249.0  118910.0  290919.0  1.0  118321.0  1.0  1.0  1.0   2.0   \n",
       "32767  ...  13854.0  118821.0  290919.0  1.0  117905.0  1.0  1.0  1.0   1.0   \n",
       "\n",
       "        23  \n",
       "0      1.0  \n",
       "1      1.0  \n",
       "2      1.0  \n",
       "3      1.0  \n",
       "4      1.0  \n",
       "...    ...  \n",
       "32763  1.0  \n",
       "32764  1.0  \n",
       "32765  1.0  \n",
       "32766  2.0  \n",
       "32767  1.0  \n",
       "\n",
       "[32768 rows x 24 columns]"
      ]
     },
     "execution_count": 23,
     "metadata": {},
     "output_type": "execute_result"
    }
   ],
   "source": [
    "X_f=pd.concat([X,Xt],ignore_index=True)\n",
    "X_f"
   ]
  },
  {
   "cell_type": "code",
   "execution_count": 24,
   "id": "28782386",
   "metadata": {
    "execution": {
     "iopub.execute_input": "2022-03-25T14:44:45.136203Z",
     "iopub.status.busy": "2022-03-25T14:44:45.134966Z",
     "iopub.status.idle": "2022-03-25T14:44:49.331162Z",
     "shell.execute_reply": "2022-03-25T14:44:49.331713Z"
    },
    "papermill": {
     "duration": 4.250139,
     "end_time": "2022-03-25T14:44:49.331930",
     "exception": false,
     "start_time": "2022-03-25T14:44:45.081791",
     "status": "completed"
    },
    "tags": []
   },
   "outputs": [
    {
     "name": "stderr",
     "output_type": "stream",
     "text": [
      "/opt/conda/lib/python3.7/site-packages/sklearn/utils/validation.py:985: DataConversionWarning: A column-vector y was passed when a 1d array was expected. Please change the shape of y to (n_samples, ), for example using ravel().\n",
      "  y = column_or_1d(y, warn=True)\n"
     ]
    },
    {
     "data": {
      "text/plain": [
       "13    0.068488\n",
       "14    0.038228\n",
       "15    0.018512\n",
       "7     0.017058\n",
       "0     0.015676\n",
       "3     0.011485\n",
       "12    0.011158\n",
       "18    0.008649\n",
       "16    0.007334\n",
       "6     0.005202\n",
       "19    0.004999\n",
       "10    0.004114\n",
       "20    0.003293\n",
       "17    0.002473\n",
       "4     0.002256\n",
       "21    0.002127\n",
       "8     0.001813\n",
       "9     0.001527\n",
       "23    0.000999\n",
       "22    0.000412\n",
       "5     0.000410\n",
       "1     0.000000\n",
       "11    0.000000\n",
       "2     0.000000\n",
       "dtype: float64"
      ]
     },
     "execution_count": 24,
     "metadata": {},
     "output_type": "execute_result"
    }
   ],
   "source": [
    "mutual_info1 = mutual_info_classif(X_f, y_final)\n",
    "mutual_info1 = pd.Series(mutual_info)\n",
    "mutual_info1.index = X_f.columns\n",
    "mutual_info1.sort_values(ascending=False)"
   ]
  },
  {
   "cell_type": "code",
   "execution_count": 25,
   "id": "2e98d28b",
   "metadata": {
    "execution": {
     "iopub.execute_input": "2022-03-25T14:44:49.431908Z",
     "iopub.status.busy": "2022-03-25T14:44:49.431134Z",
     "iopub.status.idle": "2022-03-25T14:44:49.470709Z",
     "shell.execute_reply": "2022-03-25T14:44:49.469913Z"
    },
    "papermill": {
     "duration": 0.092636,
     "end_time": "2022-03-25T14:44:49.470874",
     "exception": false,
     "start_time": "2022-03-25T14:44:49.378238",
     "status": "completed"
    },
    "tags": []
   },
   "outputs": [
    {
     "data": {
      "text/html": [
       "<div>\n",
       "<style scoped>\n",
       "    .dataframe tbody tr th:only-of-type {\n",
       "        vertical-align: middle;\n",
       "    }\n",
       "\n",
       "    .dataframe tbody tr th {\n",
       "        vertical-align: top;\n",
       "    }\n",
       "\n",
       "    .dataframe thead th {\n",
       "        text-align: right;\n",
       "    }\n",
       "</style>\n",
       "<table border=\"1\" class=\"dataframe\">\n",
       "  <thead>\n",
       "    <tr style=\"text-align: right;\">\n",
       "      <th></th>\n",
       "      <th>0</th>\n",
       "      <th>3</th>\n",
       "      <th>4</th>\n",
       "      <th>6</th>\n",
       "      <th>7</th>\n",
       "      <th>8</th>\n",
       "      <th>10</th>\n",
       "      <th>12</th>\n",
       "      <th>13</th>\n",
       "      <th>14</th>\n",
       "      <th>15</th>\n",
       "      <th>16</th>\n",
       "      <th>18</th>\n",
       "      <th>19</th>\n",
       "      <th>23</th>\n",
       "    </tr>\n",
       "  </thead>\n",
       "  <tbody>\n",
       "    <tr>\n",
       "      <th>0</th>\n",
       "      <td>15006.0</td>\n",
       "      <td>118213.0</td>\n",
       "      <td>1.0</td>\n",
       "      <td>118212.0</td>\n",
       "      <td>117906.0</td>\n",
       "      <td>1.0</td>\n",
       "      <td>1.0</td>\n",
       "      <td>117908.0</td>\n",
       "      <td>-0.218055</td>\n",
       "      <td>7399.0</td>\n",
       "      <td>123201.0</td>\n",
       "      <td>290919.0</td>\n",
       "      <td>117905.0</td>\n",
       "      <td>1.0</td>\n",
       "      <td>1.0</td>\n",
       "    </tr>\n",
       "    <tr>\n",
       "      <th>1</th>\n",
       "      <td>4674.0</td>\n",
       "      <td>118327.0</td>\n",
       "      <td>1.0</td>\n",
       "      <td>117961.0</td>\n",
       "      <td>117906.0</td>\n",
       "      <td>1.0</td>\n",
       "      <td>1.0</td>\n",
       "      <td>117908.0</td>\n",
       "      <td>0.472692</td>\n",
       "      <td>7644.0</td>\n",
       "      <td>120318.0</td>\n",
       "      <td>290919.0</td>\n",
       "      <td>117905.0</td>\n",
       "      <td>1.0</td>\n",
       "      <td>1.0</td>\n",
       "    </tr>\n",
       "    <tr>\n",
       "      <th>2</th>\n",
       "      <td>80176.0</td>\n",
       "      <td>118343.0</td>\n",
       "      <td>1.0</td>\n",
       "      <td>117961.0</td>\n",
       "      <td>117906.0</td>\n",
       "      <td>2.0</td>\n",
       "      <td>2.0</td>\n",
       "      <td>117908.0</td>\n",
       "      <td>-0.261004</td>\n",
       "      <td>4004.0</td>\n",
       "      <td>118856.0</td>\n",
       "      <td>290919.0</td>\n",
       "      <td>117905.0</td>\n",
       "      <td>1.0</td>\n",
       "      <td>1.0</td>\n",
       "    </tr>\n",
       "    <tr>\n",
       "      <th>3</th>\n",
       "      <td>83045.0</td>\n",
       "      <td>117903.0</td>\n",
       "      <td>2.0</td>\n",
       "      <td>117902.0</td>\n",
       "      <td>117906.0</td>\n",
       "      <td>1.0</td>\n",
       "      <td>1.0</td>\n",
       "      <td>117908.0</td>\n",
       "      <td>-0.374357</td>\n",
       "      <td>7393.0</td>\n",
       "      <td>120428.0</td>\n",
       "      <td>290919.0</td>\n",
       "      <td>117905.0</td>\n",
       "      <td>1.0</td>\n",
       "      <td>1.0</td>\n",
       "    </tr>\n",
       "    <tr>\n",
       "      <th>4</th>\n",
       "      <td>42679.0</td>\n",
       "      <td>117962.0</td>\n",
       "      <td>1.0</td>\n",
       "      <td>117961.0</td>\n",
       "      <td>130085.0</td>\n",
       "      <td>1.0</td>\n",
       "      <td>1.0</td>\n",
       "      <td>120173.0</td>\n",
       "      <td>1.000000</td>\n",
       "      <td>44022.0</td>\n",
       "      <td>122215.0</td>\n",
       "      <td>290919.0</td>\n",
       "      <td>120172.0</td>\n",
       "      <td>1.0</td>\n",
       "      <td>1.0</td>\n",
       "    </tr>\n",
       "    <tr>\n",
       "      <th>...</th>\n",
       "      <td>...</td>\n",
       "      <td>...</td>\n",
       "      <td>...</td>\n",
       "      <td>...</td>\n",
       "      <td>...</td>\n",
       "      <td>...</td>\n",
       "      <td>...</td>\n",
       "      <td>...</td>\n",
       "      <td>...</td>\n",
       "      <td>...</td>\n",
       "      <td>...</td>\n",
       "      <td>...</td>\n",
       "      <td>...</td>\n",
       "      <td>...</td>\n",
       "      <td>...</td>\n",
       "    </tr>\n",
       "    <tr>\n",
       "      <th>32763</th>\n",
       "      <td>971.0</td>\n",
       "      <td>118300.0</td>\n",
       "      <td>1.0</td>\n",
       "      <td>117961.0</td>\n",
       "      <td>310997.0</td>\n",
       "      <td>1.0</td>\n",
       "      <td>1.0</td>\n",
       "      <td>120346.0</td>\n",
       "      <td>1.000000</td>\n",
       "      <td>4864.0</td>\n",
       "      <td>123055.0</td>\n",
       "      <td>118424.0</td>\n",
       "      <td>120344.0</td>\n",
       "      <td>1.0</td>\n",
       "      <td>1.0</td>\n",
       "    </tr>\n",
       "    <tr>\n",
       "      <th>32764</th>\n",
       "      <td>105802.0</td>\n",
       "      <td>118327.0</td>\n",
       "      <td>1.0</td>\n",
       "      <td>117961.0</td>\n",
       "      <td>117906.0</td>\n",
       "      <td>1.0</td>\n",
       "      <td>1.0</td>\n",
       "      <td>118322.0</td>\n",
       "      <td>0.580688</td>\n",
       "      <td>32457.0</td>\n",
       "      <td>118320.0</td>\n",
       "      <td>290919.0</td>\n",
       "      <td>118321.0</td>\n",
       "      <td>1.0</td>\n",
       "      <td>1.0</td>\n",
       "    </tr>\n",
       "    <tr>\n",
       "      <th>32765</th>\n",
       "      <td>43096.0</td>\n",
       "      <td>117962.0</td>\n",
       "      <td>1.0</td>\n",
       "      <td>117961.0</td>\n",
       "      <td>118368.0</td>\n",
       "      <td>1.0</td>\n",
       "      <td>1.0</td>\n",
       "      <td>118486.0</td>\n",
       "      <td>1.000000</td>\n",
       "      <td>2014.0</td>\n",
       "      <td>117904.0</td>\n",
       "      <td>117887.0</td>\n",
       "      <td>118368.0</td>\n",
       "      <td>1.0</td>\n",
       "      <td>1.0</td>\n",
       "    </tr>\n",
       "    <tr>\n",
       "      <th>32766</th>\n",
       "      <td>31220.0</td>\n",
       "      <td>118386.0</td>\n",
       "      <td>1.0</td>\n",
       "      <td>117961.0</td>\n",
       "      <td>117906.0</td>\n",
       "      <td>1.0</td>\n",
       "      <td>1.0</td>\n",
       "      <td>118322.0</td>\n",
       "      <td>-2.374507</td>\n",
       "      <td>1249.0</td>\n",
       "      <td>118910.0</td>\n",
       "      <td>290919.0</td>\n",
       "      <td>118321.0</td>\n",
       "      <td>1.0</td>\n",
       "      <td>2.0</td>\n",
       "    </tr>\n",
       "    <tr>\n",
       "      <th>32767</th>\n",
       "      <td>41642.0</td>\n",
       "      <td>118052.0</td>\n",
       "      <td>1.0</td>\n",
       "      <td>117961.0</td>\n",
       "      <td>172635.0</td>\n",
       "      <td>1.0</td>\n",
       "      <td>1.0</td>\n",
       "      <td>117908.0</td>\n",
       "      <td>2.714601</td>\n",
       "      <td>13854.0</td>\n",
       "      <td>118821.0</td>\n",
       "      <td>290919.0</td>\n",
       "      <td>117905.0</td>\n",
       "      <td>1.0</td>\n",
       "      <td>1.0</td>\n",
       "    </tr>\n",
       "  </tbody>\n",
       "</table>\n",
       "<p>32768 rows × 15 columns</p>\n",
       "</div>"
      ],
      "text/plain": [
       "             0         3    4         6         7    8    10        12  \\\n",
       "0       15006.0  118213.0  1.0  118212.0  117906.0  1.0  1.0  117908.0   \n",
       "1        4674.0  118327.0  1.0  117961.0  117906.0  1.0  1.0  117908.0   \n",
       "2       80176.0  118343.0  1.0  117961.0  117906.0  2.0  2.0  117908.0   \n",
       "3       83045.0  117903.0  2.0  117902.0  117906.0  1.0  1.0  117908.0   \n",
       "4       42679.0  117962.0  1.0  117961.0  130085.0  1.0  1.0  120173.0   \n",
       "...         ...       ...  ...       ...       ...  ...  ...       ...   \n",
       "32763     971.0  118300.0  1.0  117961.0  310997.0  1.0  1.0  120346.0   \n",
       "32764  105802.0  118327.0  1.0  117961.0  117906.0  1.0  1.0  118322.0   \n",
       "32765   43096.0  117962.0  1.0  117961.0  118368.0  1.0  1.0  118486.0   \n",
       "32766   31220.0  118386.0  1.0  117961.0  117906.0  1.0  1.0  118322.0   \n",
       "32767   41642.0  118052.0  1.0  117961.0  172635.0  1.0  1.0  117908.0   \n",
       "\n",
       "             13       14        15        16        18   19   23  \n",
       "0     -0.218055   7399.0  123201.0  290919.0  117905.0  1.0  1.0  \n",
       "1      0.472692   7644.0  120318.0  290919.0  117905.0  1.0  1.0  \n",
       "2     -0.261004   4004.0  118856.0  290919.0  117905.0  1.0  1.0  \n",
       "3     -0.374357   7393.0  120428.0  290919.0  117905.0  1.0  1.0  \n",
       "4      1.000000  44022.0  122215.0  290919.0  120172.0  1.0  1.0  \n",
       "...         ...      ...       ...       ...       ...  ...  ...  \n",
       "32763  1.000000   4864.0  123055.0  118424.0  120344.0  1.0  1.0  \n",
       "32764  0.580688  32457.0  118320.0  290919.0  118321.0  1.0  1.0  \n",
       "32765  1.000000   2014.0  117904.0  117887.0  118368.0  1.0  1.0  \n",
       "32766 -2.374507   1249.0  118910.0  290919.0  118321.0  1.0  2.0  \n",
       "32767  2.714601  13854.0  118821.0  290919.0  117905.0  1.0  1.0  \n",
       "\n",
       "[32768 rows x 15 columns]"
      ]
     },
     "execution_count": 25,
     "metadata": {},
     "output_type": "execute_result"
    }
   ],
   "source": [
    "X_final=pd.concat([X1,Xt1],ignore_index=True)\n",
    "X_final"
   ]
  },
  {
   "cell_type": "code",
   "execution_count": 26,
   "id": "4b08c1f5",
   "metadata": {
    "execution": {
     "iopub.execute_input": "2022-03-25T14:44:49.585186Z",
     "iopub.status.busy": "2022-03-25T14:44:49.584082Z",
     "iopub.status.idle": "2022-03-25T14:44:49.589074Z",
     "shell.execute_reply": "2022-03-25T14:44:49.588403Z"
    },
    "papermill": {
     "duration": 0.065779,
     "end_time": "2022-03-25T14:44:49.589232",
     "exception": false,
     "start_time": "2022-03-25T14:44:49.523453",
     "status": "completed"
    },
    "tags": []
   },
   "outputs": [
    {
     "data": {
      "text/plain": [
       "((32768, 15), (32768, 1))"
      ]
     },
     "execution_count": 26,
     "metadata": {},
     "output_type": "execute_result"
    }
   ],
   "source": [
    "X_final.shape,y_final.shape"
   ]
  },
  {
   "cell_type": "code",
   "execution_count": 27,
   "id": "05c3124b",
   "metadata": {
    "execution": {
     "iopub.execute_input": "2022-03-25T14:44:49.705319Z",
     "iopub.status.busy": "2022-03-25T14:44:49.704174Z",
     "iopub.status.idle": "2022-03-25T14:44:49.820248Z",
     "shell.execute_reply": "2022-03-25T14:44:49.820749Z"
    },
    "papermill": {
     "duration": 0.179624,
     "end_time": "2022-03-25T14:44:49.820953",
     "exception": false,
     "start_time": "2022-03-25T14:44:49.641329",
     "status": "completed"
    },
    "tags": []
   },
   "outputs": [],
   "source": [
    "from sklearn.model_selection import train_test_split\n",
    "from sklearn.utils import check_random_state\n",
    "random_state=check_random_state(0)\n",
    "permutation=random_state.permutation(X.shape[0])\n",
    "X_final=np.array(X_final)\n",
    "y_final=np.array(y_final)\n",
    "X_final = X_final[permutation]\n",
    "y_final=y_final[permutation]\n",
    "X_final = X_final.reshape((X_final.shape[0], -1))\n",
    "X_final=pd.DataFrame(X_final)\n",
    "y_final=pd.DataFrame(y_final)\n",
    "Xf_train, Xf_test, yf_train, yf_test = train_test_split(X_final, y_final, test_size=0.30,stratify=y_final, random_state=42)"
   ]
  },
  {
   "cell_type": "code",
   "execution_count": 28,
   "id": "2cad6a14",
   "metadata": {
    "execution": {
     "iopub.execute_input": "2022-03-25T14:44:49.940359Z",
     "iopub.status.busy": "2022-03-25T14:44:49.939369Z",
     "iopub.status.idle": "2022-03-25T14:45:16.214998Z",
     "shell.execute_reply": "2022-03-25T14:45:16.215514Z"
    },
    "papermill": {
     "duration": 26.338294,
     "end_time": "2022-03-25T14:45:16.215725",
     "exception": false,
     "start_time": "2022-03-25T14:44:49.877431",
     "status": "completed"
    },
    "tags": []
   },
   "outputs": [
    {
     "name": "stderr",
     "output_type": "stream",
     "text": [
      "/opt/conda/lib/python3.7/site-packages/ipykernel_launcher.py:3: DataConversionWarning: A column-vector y was passed when a 1d array was expected. Please change the shape of y to (n_samples,), for example using ravel().\n",
      "  This is separate from the ipykernel package so we can avoid doing imports until\n"
     ]
    },
    {
     "name": "stdout",
     "output_type": "stream",
     "text": [
      "1.0\n",
      "0.8892989224485327\n"
     ]
    }
   ],
   "source": [
    "rf5=ensemble.RandomForestClassifier(bootstrap=True, criterion='gini', max_depth=None,\n",
    "                       min_samples_leaf=1, min_samples_split=2,\n",
    "                       n_estimators=1577, max_features='sqrt',class_weight='balanced',random_state=0).fit(Xf_train,yf_train)\n",
    "print(roc_auc_score(yf_train, rf5.predict_proba(Xf_train)[:, 1]))\n",
    "print(roc_auc_score(yf_test, rf5.predict_proba(Xf_test)[:, 1]))"
   ]
  },
  {
   "cell_type": "code",
   "execution_count": 29,
   "id": "87490c12",
   "metadata": {
    "execution": {
     "iopub.execute_input": "2022-03-25T14:45:16.317949Z",
     "iopub.status.busy": "2022-03-25T14:45:16.317278Z",
     "iopub.status.idle": "2022-03-25T14:45:17.710492Z",
     "shell.execute_reply": "2022-03-25T14:45:17.711149Z"
    },
    "papermill": {
     "duration": 1.446863,
     "end_time": "2022-03-25T14:45:17.711339",
     "exception": false,
     "start_time": "2022-03-25T14:45:16.264476",
     "status": "completed"
    },
    "tags": []
   },
   "outputs": [
    {
     "name": "stdout",
     "output_type": "stream",
     "text": [
      "[[  65  219]\n",
      " [   5 4626]]\n",
      "0.9544252288911496\n",
      "              precision    recall  f1-score   support\n",
      "\n",
      "           0       0.93      0.23      0.37       284\n",
      "           1       0.95      1.00      0.98      4631\n",
      "\n",
      "    accuracy                           0.95      4915\n",
      "   macro avg       0.94      0.61      0.67      4915\n",
      "weighted avg       0.95      0.95      0.94      4915\n",
      "\n"
     ]
    }
   ],
   "source": [
    "prediction=rf5.predict(Xf_test)\n",
    "print(confusion_matrix(yf_test,prediction))\n",
    "print(accuracy_score(yf_test,prediction))\n",
    "print(classification_report(yf_test,prediction))"
   ]
  },
  {
   "cell_type": "code",
   "execution_count": 30,
   "id": "70612c82",
   "metadata": {
    "execution": {
     "iopub.execute_input": "2022-03-25T14:45:17.816652Z",
     "iopub.status.busy": "2022-03-25T14:45:17.815961Z",
     "iopub.status.idle": "2022-03-25T14:45:17.817699Z",
     "shell.execute_reply": "2022-03-25T14:45:17.818147Z"
    },
    "papermill": {
     "duration": 0.05673,
     "end_time": "2022-03-25T14:45:17.818328",
     "exception": false,
     "start_time": "2022-03-25T14:45:17.761598",
     "status": "completed"
    },
    "tags": []
   },
   "outputs": [],
   "source": [
    "from sklearn.model_selection import RandomizedSearchCV\n",
    "# Number of trees in random forest\n",
    "#criterion = ['gini','entropy']\n",
    "n_estimators = [int(x) for x in np.linspace(start = 100, stop = 2000, num = 20)]\n",
    "# Number of features to consider at every split\n",
    "max_features = ['auto', 'sqrt']\n",
    "# Maximum number of levels in tree\n",
    "max_depth = [int(x) for x in np.linspace(10, 60, num = 11)]\n",
    "max_depth.append(None)\n",
    "# Minimum number of samples required to split a node\n",
    "min_samples_split = [0.0001, 0.001,0.01,2,3,4]\n",
    "# Minimum number of samples required at each leaf node\n",
    "min_samples_leaf = [1, 2, 3, 4]\n",
    "# Method of selecting samples for training each tree\n",
    "bootstrap = [True]\n",
    "class_weight=['balanced','balanced_subsample']\n",
    "# Create the random grid\n",
    "random_grid = {'class_weight':class_weight,\n",
    "               'n_estimators': n_estimators,\n",
    "               'max_features': max_features,\n",
    "               'max_depth': max_depth,\n",
    "               'min_samples_split': min_samples_split,\n",
    "               'min_samples_leaf': min_samples_leaf,\n",
    "               'bootstrap': bootstrap}\n",
    "rfcv = ensemble.RandomForestClassifier(criterion='gini',random_state=0)\n",
    "rf_random = RandomizedSearchCV(estimator = rfcv, param_distributions = random_grid, scoring='roc_auc', n_iter = 100, cv = 3, verbose=2, random_state=42, n_jobs = -1)\n",
    "rf_random.fit(Xf_train, yf_train)\n",
    "print(rf_random.best_estimator_)\n",
    "print(rf_random.best_params_)"
   ]
  },
  {
   "cell_type": "code",
   "execution_count": 31,
   "id": "ab4e920f",
   "metadata": {
    "execution": {
     "iopub.execute_input": "2022-03-25T14:45:17.922341Z",
     "iopub.status.busy": "2022-03-25T14:45:17.921690Z",
     "iopub.status.idle": "2022-03-25T14:45:36.122706Z",
     "shell.execute_reply": "2022-03-25T14:45:36.123227Z"
    },
    "papermill": {
     "duration": 18.25563,
     "end_time": "2022-03-25T14:45:36.123421",
     "exception": false,
     "start_time": "2022-03-25T14:45:17.867791",
     "status": "completed"
    },
    "tags": []
   },
   "outputs": [
    {
     "name": "stderr",
     "output_type": "stream",
     "text": [
      "/opt/conda/lib/python3.7/site-packages/ipykernel_launcher.py:3: DataConversionWarning: A column-vector y was passed when a 1d array was expected. Please change the shape of y to (n_samples,), for example using ravel().\n",
      "  This is separate from the ipykernel package so we can avoid doing imports until\n"
     ]
    },
    {
     "name": "stdout",
     "output_type": "stream",
     "text": [
      "1.0\n",
      "0.8893487246085019\n"
     ]
    }
   ],
   "source": [
    "rf6=ensemble.RandomForestClassifier(bootstrap=True, criterion='gini', max_depth=30,\n",
    "                       min_samples_leaf=1, min_samples_split=4,\n",
    "                       n_estimators=900, max_features='sqrt',class_weight='balanced_subsample',random_state=0).fit(Xf_train,yf_train)\n",
    "print(roc_auc_score(yf_train, rf6.predict_proba(Xf_train)[:, 1]))\n",
    "print(roc_auc_score(yf_test, rf6.predict_proba(Xf_test)[:, 1]))"
   ]
  },
  {
   "cell_type": "code",
   "execution_count": 32,
   "id": "b6dcf74e",
   "metadata": {
    "execution": {
     "iopub.execute_input": "2022-03-25T14:45:36.236019Z",
     "iopub.status.busy": "2022-03-25T14:45:36.235277Z",
     "iopub.status.idle": "2022-03-25T14:45:51.004134Z",
     "shell.execute_reply": "2022-03-25T14:45:51.004728Z"
    },
    "papermill": {
     "duration": 14.829109,
     "end_time": "2022-03-25T14:45:51.004937",
     "exception": false,
     "start_time": "2022-03-25T14:45:36.175828",
     "status": "completed"
    },
    "tags": []
   },
   "outputs": [
    {
     "name": "stderr",
     "output_type": "stream",
     "text": [
      "/opt/conda/lib/python3.7/site-packages/xgboost/sklearn.py:1224: UserWarning: The use of label encoder in XGBClassifier is deprecated and will be removed in a future release. To remove this warning, do the following: 1) Pass option use_label_encoder=False when constructing XGBClassifier object; and 2) Encode your labels (y) as integers starting with 0, i.e. 0, 1, 2, ..., [num_class - 1].\n",
      "  warnings.warn(label_encoder_deprecation_msg, UserWarning)\n",
      "/opt/conda/lib/python3.7/site-packages/sklearn/preprocessing/_label.py:98: DataConversionWarning: A column-vector y was passed when a 1d array was expected. Please change the shape of y to (n_samples, ), for example using ravel().\n",
      "  y = column_or_1d(y, warn=True)\n",
      "/opt/conda/lib/python3.7/site-packages/sklearn/preprocessing/_label.py:133: DataConversionWarning: A column-vector y was passed when a 1d array was expected. Please change the shape of y to (n_samples, ), for example using ravel().\n",
      "  y = column_or_1d(y, warn=True)\n"
     ]
    },
    {
     "name": "stdout",
     "output_type": "stream",
     "text": [
      "Accuracy score is: 0.8374364191251271\n",
      "0.9864700378708466\n",
      "0.8621863984598587\n",
      "[[ 192   92]\n",
      " [ 707 3924]]\n",
      "0.8374364191251271\n",
      "              precision    recall  f1-score   support\n",
      "\n",
      "           0       0.21      0.68      0.32       284\n",
      "           1       0.98      0.85      0.91      4631\n",
      "\n",
      "    accuracy                           0.84      4915\n",
      "   macro avg       0.60      0.76      0.62      4915\n",
      "weighted avg       0.93      0.84      0.87      4915\n",
      "\n"
     ]
    }
   ],
   "source": [
    "xgb_model2 = XGBClassifier(eta=0.05, colsample_bytree=0.7, eval_metric='auc', max_depth=60,\n",
    "              n_estimators=1500, scale_pos_weight=0.038, reg_lambda=2,reg_alpha=2.5, subsample=0.5,random_state=0).fit(Xf_train, yf_train)\n",
    "\n",
    "# predict\n",
    "xgb_y_predict = xgb_model2.predict(Xf_test)\n",
    "xgb_score = accuracy_score(xgb_y_predict, yf_test)\n",
    "\n",
    "print('Accuracy score is:', xgb_score)\n",
    "print(roc_auc_score(yf_train, xgb_model2.predict_proba(Xf_train)[:, 1]))\n",
    "print(roc_auc_score(yf_test, xgb_model2.predict_proba(Xf_test)[:, 1]))\n",
    "\n",
    "prediction=xgb_model2.predict(Xf_test)\n",
    "print(confusion_matrix(yf_test,prediction))\n",
    "print(accuracy_score(yf_test,prediction))\n",
    "print(classification_report(yf_test,prediction))"
   ]
  },
  {
   "cell_type": "code",
   "execution_count": 33,
   "id": "0e892eea",
   "metadata": {
    "execution": {
     "iopub.execute_input": "2022-03-25T14:45:51.118237Z",
     "iopub.status.busy": "2022-03-25T14:45:51.117201Z",
     "iopub.status.idle": "2022-03-25T14:45:51.122125Z",
     "shell.execute_reply": "2022-03-25T14:45:51.122666Z"
    },
    "papermill": {
     "duration": 0.063098,
     "end_time": "2022-03-25T14:45:51.122857",
     "exception": false,
     "start_time": "2022-03-25T14:45:51.059759",
     "status": "completed"
    },
    "tags": []
   },
   "outputs": [],
   "source": [
    "n_estimators = [int(x) for x in np.linspace(start = 100, stop = 2000, num = 20)]\n",
    "max_depth = [int(x) for x in np.linspace(20, 60, num = 11)]\n",
    "colsample_bytree=[0.65,0.7,0.75,0.8]\n",
    "learning_rate=[0.05,0.15,0.1,0.2]\n",
    "min_child_weight=[1,3,5]\n",
    "subsample=[0.5,0.7,0.9]\n",
    "scale_pos_weight=[0.05,0.08,0.1,0.7,0.9]\n",
    "reg_lambda=[1.5,2,2.5]\n",
    "reg_alpha=[2,2.5,3]\n",
    "\n",
    "random_grid2 = {'n_estimators': n_estimators,\n",
    "               'max_depth': max_depth,\n",
    "               'colsample_bytree':colsample_bytree,\n",
    "               'learning_rate':learning_rate,\n",
    "               'min_child_weight': min_child_weight,\n",
    "               'subsample': subsample,\n",
    "               'reg_lambda':reg_lambda,\n",
    "               'reg_alpha':reg_alpha,\n",
    "               'scale_pos_weight':scale_pos_weight}\n",
    "modrs = XGBClassifier(objective='binary:logistic',eval_metric='auc')\n",
    "mod_random = RandomizedSearchCV(estimator = modrs, param_distributions = random_grid2,error_score='raise', n_iter =100,cv=3 ,scoring='roc_auc', verbose=2, random_state=42, n_jobs = -1)\n",
    "mod_random.fit(Xf_train, yf_train)\n",
    "print(mod_random.best_estimator_)\n",
    "print(mod_random.best_params_)"
   ]
  },
  {
   "cell_type": "code",
   "execution_count": 34,
   "id": "fe31e5be",
   "metadata": {
    "execution": {
     "iopub.execute_input": "2022-03-25T14:45:51.239326Z",
     "iopub.status.busy": "2022-03-25T14:45:51.233111Z",
     "iopub.status.idle": "2022-03-25T14:46:00.098723Z",
     "shell.execute_reply": "2022-03-25T14:46:00.099358Z"
    },
    "papermill": {
     "duration": 8.922745,
     "end_time": "2022-03-25T14:46:00.099552",
     "exception": false,
     "start_time": "2022-03-25T14:45:51.176807",
     "status": "completed"
    },
    "tags": []
   },
   "outputs": [
    {
     "name": "stderr",
     "output_type": "stream",
     "text": [
      "/opt/conda/lib/python3.7/site-packages/xgboost/sklearn.py:1224: UserWarning: The use of label encoder in XGBClassifier is deprecated and will be removed in a future release. To remove this warning, do the following: 1) Pass option use_label_encoder=False when constructing XGBClassifier object; and 2) Encode your labels (y) as integers starting with 0, i.e. 0, 1, 2, ..., [num_class - 1].\n",
      "  warnings.warn(label_encoder_deprecation_msg, UserWarning)\n",
      "/opt/conda/lib/python3.7/site-packages/sklearn/preprocessing/_label.py:98: DataConversionWarning: A column-vector y was passed when a 1d array was expected. Please change the shape of y to (n_samples, ), for example using ravel().\n",
      "  y = column_or_1d(y, warn=True)\n",
      "/opt/conda/lib/python3.7/site-packages/sklearn/preprocessing/_label.py:133: DataConversionWarning: A column-vector y was passed when a 1d array was expected. Please change the shape of y to (n_samples, ), for example using ravel().\n",
      "  y = column_or_1d(y, warn=True)\n"
     ]
    },
    {
     "name": "stdout",
     "output_type": "stream",
     "text": [
      "Accuracy score is: 0.9593082400813835\n",
      "0.9991687873299937\n",
      "0.8754379548724\n",
      "[[  95  189]\n",
      " [  11 4620]]\n",
      "0.9593082400813835\n",
      "              precision    recall  f1-score   support\n",
      "\n",
      "           0       0.90      0.33      0.49       284\n",
      "           1       0.96      1.00      0.98      4631\n",
      "\n",
      "    accuracy                           0.96      4915\n",
      "   macro avg       0.93      0.67      0.73      4915\n",
      "weighted avg       0.96      0.96      0.95      4915\n",
      "\n"
     ]
    }
   ],
   "source": [
    "xgb_model3 = XGBClassifier(eta=0.05, colsample_bytree=0.65, eval_metric='auc', max_depth=52,min_child_weight= 1,\n",
    "              n_estimators=700, scale_pos_weight=0.8, reg_lambda=2,reg_alpha=2.5, subsample=0.5,random_state=0).fit(Xf_train, yf_train)\n",
    "\n",
    "# predict\n",
    "xgb_y_predict = xgb_model3.predict(Xf_test)\n",
    "xgb_score = accuracy_score(xgb_y_predict, yf_test)\n",
    "\n",
    "print('Accuracy score is:', xgb_score)\n",
    "print(roc_auc_score(yf_train, xgb_model3.predict_proba(Xf_train)[:, 1]))\n",
    "print(roc_auc_score(yf_test, xgb_model3.predict_proba(Xf_test)[:, 1]))\n",
    "\n",
    "prediction=xgb_model3.predict(Xf_test)\n",
    "print(confusion_matrix(yf_test,prediction))\n",
    "print(accuracy_score(yf_test,prediction))\n",
    "print(classification_report(yf_test,prediction))"
   ]
  },
  {
   "cell_type": "code",
   "execution_count": 35,
   "id": "cce76a26",
   "metadata": {
    "execution": {
     "iopub.execute_input": "2022-03-25T14:46:00.210226Z",
     "iopub.status.busy": "2022-03-25T14:46:00.209522Z",
     "iopub.status.idle": "2022-03-25T14:46:13.768402Z",
     "shell.execute_reply": "2022-03-25T14:46:13.767728Z"
    },
    "papermill": {
     "duration": 13.615495,
     "end_time": "2022-03-25T14:46:13.768552",
     "exception": false,
     "start_time": "2022-03-25T14:46:00.153057",
     "status": "completed"
    },
    "tags": []
   },
   "outputs": [
    {
     "name": "stderr",
     "output_type": "stream",
     "text": [
      "/opt/conda/lib/python3.7/site-packages/xgboost/sklearn.py:1224: UserWarning: The use of label encoder in XGBClassifier is deprecated and will be removed in a future release. To remove this warning, do the following: 1) Pass option use_label_encoder=False when constructing XGBClassifier object; and 2) Encode your labels (y) as integers starting with 0, i.e. 0, 1, 2, ..., [num_class - 1].\n",
      "  warnings.warn(label_encoder_deprecation_msg, UserWarning)\n",
      "/opt/conda/lib/python3.7/site-packages/sklearn/preprocessing/_label.py:98: DataConversionWarning: A column-vector y was passed when a 1d array was expected. Please change the shape of y to (n_samples, ), for example using ravel().\n",
      "  y = column_or_1d(y, warn=True)\n",
      "/opt/conda/lib/python3.7/site-packages/sklearn/preprocessing/_label.py:133: DataConversionWarning: A column-vector y was passed when a 1d array was expected. Please change the shape of y to (n_samples, ), for example using ravel().\n",
      "  y = column_or_1d(y, warn=True)\n"
     ]
    },
    {
     "name": "stdout",
     "output_type": "stream",
     "text": [
      "Accuracy score is: 0.9848013184398462\n",
      "0.9992658063828304\n",
      "[[  702   246]\n",
      " [    3 15432]]\n",
      "0.9848013184398462\n",
      "              precision    recall  f1-score   support\n",
      "\n",
      "           0       1.00      0.74      0.85       948\n",
      "           1       0.98      1.00      0.99     15435\n",
      "\n",
      "    accuracy                           0.98     16383\n",
      "   macro avg       0.99      0.87      0.92     16383\n",
      "weighted avg       0.98      0.98      0.98     16383\n",
      "\n"
     ]
    }
   ],
   "source": [
    "xgb_modelf = XGBClassifier(eta=0.05, colsample_bytree=0.65, eval_metric='auc', max_depth=52,min_child_weight= 1,\n",
    "              n_estimators=700, scale_pos_weight=0.8, reg_lambda=2,reg_alpha=2.5, subsample=0.5,random_state=0).fit(X_final, y_final)\n",
    "\n",
    "# predict\n",
    "xgb_y_predict = xgb_modelf.predict(X_final)\n",
    "xgb_score = accuracy_score(xgb_y_predict, y_final)\n",
    "\n",
    "print('Accuracy score is:', xgb_score)\n",
    "print(roc_auc_score(y_final, xgb_modelf.predict_proba(X_final)[:, 1]))\n",
    "#print(roc_auc_score(yf_test, xgb_modelf.predict_proba(Xf_test)[:, 1]))\n",
    "\n",
    "prediction=xgb_modelf.predict(X_final)\n",
    "print(confusion_matrix(y_final,prediction))\n",
    "print(accuracy_score(y_final,prediction))\n",
    "print(classification_report(y_final,prediction))"
   ]
  },
  {
   "cell_type": "code",
   "execution_count": 36,
   "id": "a8a65ae5",
   "metadata": {
    "execution": {
     "iopub.execute_input": "2022-03-25T14:46:13.888806Z",
     "iopub.status.busy": "2022-03-25T14:46:13.888131Z",
     "iopub.status.idle": "2022-03-25T14:46:13.896095Z",
     "shell.execute_reply": "2022-03-25T14:46:13.896723Z"
    },
    "papermill": {
     "duration": 0.071647,
     "end_time": "2022-03-25T14:46:13.896916",
     "exception": false,
     "start_time": "2022-03-25T14:46:13.825269",
     "status": "completed"
    },
    "tags": []
   },
   "outputs": [
    {
     "data": {
      "text/html": [
       "<div>\n",
       "<style scoped>\n",
       "    .dataframe tbody tr th:only-of-type {\n",
       "        vertical-align: middle;\n",
       "    }\n",
       "\n",
       "    .dataframe tbody tr th {\n",
       "        vertical-align: top;\n",
       "    }\n",
       "\n",
       "    .dataframe thead th {\n",
       "        text-align: right;\n",
       "    }\n",
       "</style>\n",
       "<table border=\"1\" class=\"dataframe\">\n",
       "  <thead>\n",
       "    <tr style=\"text-align: right;\">\n",
       "      <th></th>\n",
       "      <th>Id</th>\n",
       "      <th>Y</th>\n",
       "    </tr>\n",
       "  </thead>\n",
       "  <tbody>\n",
       "    <tr>\n",
       "      <th>0</th>\n",
       "      <td>16384</td>\n",
       "      <td>0.904219</td>\n",
       "    </tr>\n",
       "    <tr>\n",
       "      <th>1</th>\n",
       "      <td>16385</td>\n",
       "      <td>0.720776</td>\n",
       "    </tr>\n",
       "    <tr>\n",
       "      <th>2</th>\n",
       "      <td>16386</td>\n",
       "      <td>0.998644</td>\n",
       "    </tr>\n",
       "    <tr>\n",
       "      <th>3</th>\n",
       "      <td>16387</td>\n",
       "      <td>0.989765</td>\n",
       "    </tr>\n",
       "    <tr>\n",
       "      <th>4</th>\n",
       "      <td>16388</td>\n",
       "      <td>0.984964</td>\n",
       "    </tr>\n",
       "  </tbody>\n",
       "</table>\n",
       "</div>"
      ],
      "text/plain": [
       "      Id         Y\n",
       "0  16384  0.904219\n",
       "1  16385  0.720776\n",
       "2  16386  0.998644\n",
       "3  16387  0.989765\n",
       "4  16388  0.984964"
      ]
     },
     "execution_count": 36,
     "metadata": {},
     "output_type": "execute_result"
    }
   ],
   "source": [
    "solution=pd.DataFrame({'Id':df_test.Id,'Y':preds[:,1]})\n",
    "solution.head()"
   ]
  },
  {
   "cell_type": "code",
   "execution_count": 37,
   "id": "7e0d569b",
   "metadata": {
    "execution": {
     "iopub.execute_input": "2022-03-25T14:46:14.015733Z",
     "iopub.status.busy": "2022-03-25T14:46:14.014999Z",
     "iopub.status.idle": "2022-03-25T14:46:14.076778Z",
     "shell.execute_reply": "2022-03-25T14:46:14.076229Z"
    },
    "papermill": {
     "duration": 0.123097,
     "end_time": "2022-03-25T14:46:14.076933",
     "exception": false,
     "start_time": "2022-03-25T14:46:13.953836",
     "status": "completed"
    },
    "tags": []
   },
   "outputs": [],
   "source": [
    "solution.to_csv(\"submission.csv\", index = False)"
   ]
  }
 ],
 "metadata": {
  "kernelspec": {
   "display_name": "Python 3 (ipykernel)",
   "language": "python",
   "name": "python3"
  },
  "language_info": {
   "codemirror_mode": {
    "name": "ipython",
    "version": 3
   },
   "file_extension": ".py",
   "mimetype": "text/x-python",
   "name": "python",
   "nbconvert_exporter": "python",
   "pygments_lexer": "ipython3",
   "version": "3.7.11"
  },
  "papermill": {
   "default_parameters": {},
   "duration": 185.126365,
   "end_time": "2022-03-25T14:46:15.145276",
   "environment_variables": {},
   "exception": null,
   "input_path": "__notebook__.ipynb",
   "output_path": "__notebook__.ipynb",
   "parameters": {},
   "start_time": "2022-03-25T14:43:10.018911",
   "version": "2.3.3"
  }
 },
 "nbformat": 4,
 "nbformat_minor": 5
}
